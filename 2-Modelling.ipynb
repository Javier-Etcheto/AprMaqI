{
 "cells": [
  {
   "cell_type": "markdown",
   "id": "297e80a9-6d19-42fe-aaf1-b65560b58c7a",
   "metadata": {},
   "source": [
    "# Imports"
   ]
  },
  {
   "cell_type": "code",
   "execution_count": 1,
   "id": "9f7df6bf-ba73-4f48-b0d8-6c496f054900",
   "metadata": {},
   "outputs": [],
   "source": [
    "import pandas as pd\n",
    "import numpy as np\n",
    "import matplotlib.pyplot as plt\n",
    "import seaborn as sns"
   ]
  },
  {
   "cell_type": "markdown",
   "id": "402f421c-a3f1-42ff-8b86-8f6d92df8490",
   "metadata": {},
   "source": [
    "# Data"
   ]
  },
  {
   "cell_type": "code",
   "execution_count": 2,
   "id": "a01c4e02-45e8-42ab-9d01-40c044e23310",
   "metadata": {},
   "outputs": [
    {
     "data": {
      "text/html": [
       "<div>\n",
       "<style scoped>\n",
       "    .dataframe tbody tr th:only-of-type {\n",
       "        vertical-align: middle;\n",
       "    }\n",
       "\n",
       "    .dataframe tbody tr th {\n",
       "        vertical-align: top;\n",
       "    }\n",
       "\n",
       "    .dataframe thead th {\n",
       "        text-align: right;\n",
       "    }\n",
       "</style>\n",
       "<table border=\"1\" class=\"dataframe\">\n",
       "  <thead>\n",
       "    <tr style=\"text-align: right;\">\n",
       "      <th></th>\n",
       "      <th>Podcast_Name</th>\n",
       "      <th>Episode_Title</th>\n",
       "      <th>Episode_Length_minutes</th>\n",
       "      <th>Genre</th>\n",
       "      <th>Host_Popularity_percentage</th>\n",
       "      <th>Publication_Day</th>\n",
       "      <th>Publication_Time</th>\n",
       "      <th>Guest_Popularity_percentage</th>\n",
       "      <th>Number_of_Ads</th>\n",
       "      <th>Episode_Sentiment</th>\n",
       "      <th>Listening_Time_minutes</th>\n",
       "    </tr>\n",
       "  </thead>\n",
       "  <tbody>\n",
       "    <tr>\n",
       "      <th>0</th>\n",
       "      <td>Healthy Living</td>\n",
       "      <td>Episode 77</td>\n",
       "      <td>99.25</td>\n",
       "      <td>Health</td>\n",
       "      <td>21.37</td>\n",
       "      <td>Thursday</td>\n",
       "      <td>Night</td>\n",
       "      <td>70.22</td>\n",
       "      <td>3</td>\n",
       "      <td>Positive</td>\n",
       "      <td>55.158695</td>\n",
       "    </tr>\n",
       "    <tr>\n",
       "      <th>1</th>\n",
       "      <td>Mystery Matters</td>\n",
       "      <td>Episode 6</td>\n",
       "      <td>19.43</td>\n",
       "      <td>True Crime</td>\n",
       "      <td>47.19</td>\n",
       "      <td>Friday</td>\n",
       "      <td>Evening</td>\n",
       "      <td>75.15</td>\n",
       "      <td>1</td>\n",
       "      <td>Neutral</td>\n",
       "      <td>7.686559</td>\n",
       "    </tr>\n",
       "    <tr>\n",
       "      <th>2</th>\n",
       "      <td>Current Affairs</td>\n",
       "      <td>Episode 1</td>\n",
       "      <td>117.03</td>\n",
       "      <td>News</td>\n",
       "      <td>96.33</td>\n",
       "      <td>Sunday</td>\n",
       "      <td>Night</td>\n",
       "      <td>57.95</td>\n",
       "      <td>3</td>\n",
       "      <td>Neutral</td>\n",
       "      <td>110.064645</td>\n",
       "    </tr>\n",
       "    <tr>\n",
       "      <th>3</th>\n",
       "      <td>Mystery Matters</td>\n",
       "      <td>Episode 38</td>\n",
       "      <td>16.97</td>\n",
       "      <td>True Crime</td>\n",
       "      <td>25.73</td>\n",
       "      <td>Monday</td>\n",
       "      <td>Night</td>\n",
       "      <td>24.19</td>\n",
       "      <td>0</td>\n",
       "      <td>Positive</td>\n",
       "      <td>12.000380</td>\n",
       "    </tr>\n",
       "    <tr>\n",
       "      <th>4</th>\n",
       "      <td>Humor Hub</td>\n",
       "      <td>Episode 73</td>\n",
       "      <td>83.48</td>\n",
       "      <td>Comedy</td>\n",
       "      <td>76.69</td>\n",
       "      <td>Tuesday</td>\n",
       "      <td>Afternoon</td>\n",
       "      <td>42.31</td>\n",
       "      <td>3</td>\n",
       "      <td>Positive</td>\n",
       "      <td>NaN</td>\n",
       "    </tr>\n",
       "  </tbody>\n",
       "</table>\n",
       "</div>"
      ],
      "text/plain": [
       "      Podcast_Name Episode_Title  Episode_Length_minutes       Genre  \\\n",
       "0   Healthy Living    Episode 77                   99.25      Health   \n",
       "1  Mystery Matters     Episode 6                   19.43  True Crime   \n",
       "2  Current Affairs     Episode 1                  117.03        News   \n",
       "3  Mystery Matters    Episode 38                   16.97  True Crime   \n",
       "4        Humor Hub    Episode 73                   83.48      Comedy   \n",
       "\n",
       "   Host_Popularity_percentage Publication_Day Publication_Time  \\\n",
       "0                       21.37        Thursday            Night   \n",
       "1                       47.19          Friday          Evening   \n",
       "2                       96.33          Sunday            Night   \n",
       "3                       25.73          Monday            Night   \n",
       "4                       76.69         Tuesday        Afternoon   \n",
       "\n",
       "   Guest_Popularity_percentage  Number_of_Ads Episode_Sentiment  \\\n",
       "0                        70.22              3          Positive   \n",
       "1                        75.15              1           Neutral   \n",
       "2                        57.95              3           Neutral   \n",
       "3                        24.19              0          Positive   \n",
       "4                        42.31              3          Positive   \n",
       "\n",
       "   Listening_Time_minutes  \n",
       "0               55.158695  \n",
       "1                7.686559  \n",
       "2              110.064645  \n",
       "3               12.000380  \n",
       "4                     NaN  "
      ]
     },
     "execution_count": 2,
     "metadata": {},
     "output_type": "execute_result"
    }
   ],
   "source": [
    "# levantamos los datos\n",
    "df = pd.read_csv('podcast_dataset.csv')\n",
    "\n",
    "# peek\n",
    "df.head()"
   ]
  },
  {
   "cell_type": "markdown",
   "id": "dacc6106-2938-41a3-aace-3f0fc6e5c678",
   "metadata": {},
   "source": [
    "# Preprocessing\n",
    "\n",
    "Ver notebook de EDA."
   ]
  },
  {
   "cell_type": "code",
   "execution_count": 3,
   "id": "e22c0f22-3962-48fb-b84f-52b2f7ca8b4c",
   "metadata": {},
   "outputs": [],
   "source": [
    "# drop duplicates\n",
    "df.drop_duplicates(inplace=True)\n",
    "\n",
    "# target relativo\n",
    "df['fraction_listened'] = df['Listening_Time_minutes'] / df['Episode_Length_minutes']\n",
    "\n",
    "# encoding de episode number\n",
    "df['Episode_Number'] = df['Episode_Title'].apply(lambda x: x.split(\" \")[-1]).astype(int)\n",
    "\n",
    "# ausencia de guest\n",
    "df['no_guest'] = df['Guest_Popularity_percentage'].isna()\n",
    "\n",
    "# imputacion de NaNs\n",
    "df.fillna({'Guest_Popularity_percentage':-1}, inplace=True)\n",
    "\n",
    "# dropeo de NaNs de las otras columnas y reseteo de index\n",
    "df.dropna(inplace=True)\n",
    "df.reset_index(inplace=True, drop=True)\n",
    "\n",
    "# encoding de sentiment\n",
    "df['sentiment_encoded'] = df['Episode_Sentiment'].map({'Neutral':0, 'Negative':-1, 'Positive':1}).astype(int)\n",
    "\n",
    "# drop de variables ahora redundantes\n",
    "df.drop(columns=['Episode_Title', 'Episode_Sentiment'], inplace=True)"
   ]
  },
  {
   "cell_type": "code",
   "execution_count": 4,
   "id": "15ce04d6-384c-4767-b6cc-02ccb9897ef9",
   "metadata": {},
   "outputs": [
    {
     "name": "stdout",
     "output_type": "stream",
     "text": [
      "<class 'pandas.core.frame.DataFrame'>\n",
      "RangeIndex: 40374 entries, 0 to 40373\n",
      "Data columns (total 13 columns):\n",
      " #   Column                       Non-Null Count  Dtype  \n",
      "---  ------                       --------------  -----  \n",
      " 0   Podcast_Name                 40374 non-null  object \n",
      " 1   Episode_Length_minutes       40374 non-null  float64\n",
      " 2   Genre                        40374 non-null  object \n",
      " 3   Host_Popularity_percentage   40374 non-null  float64\n",
      " 4   Publication_Day              40374 non-null  object \n",
      " 5   Publication_Time             40374 non-null  object \n",
      " 6   Guest_Popularity_percentage  40374 non-null  float64\n",
      " 7   Number_of_Ads                40374 non-null  int64  \n",
      " 8   Listening_Time_minutes       40374 non-null  float64\n",
      " 9   fraction_listened            40374 non-null  float64\n",
      " 10  Episode_Number               40374 non-null  int64  \n",
      " 11  no_guest                     40374 non-null  bool   \n",
      " 12  sentiment_encoded            40374 non-null  int64  \n",
      "dtypes: bool(1), float64(5), int64(3), object(4)\n",
      "memory usage: 3.7+ MB\n"
     ]
    }
   ],
   "source": [
    "df.info()"
   ]
  },
  {
   "cell_type": "markdown",
   "id": "52b9f8e5-ef10-43bc-a297-514dab5bf807",
   "metadata": {},
   "source": [
    "# Baseline\n",
    "\n",
    "Para este problema elegimos minimizar el MSE/RMSE, aunque también miramos el MAE."
   ]
  },
  {
   "cell_type": "code",
   "execution_count": 5,
   "id": "f366f616-e4c8-41a4-aa03-4978f9a35f20",
   "metadata": {},
   "outputs": [],
   "source": [
    "from sklearn.model_selection import cross_val_score, GridSearchCV, KFold\n",
    "from sklearn.ensemble import RandomForestRegressor\n",
    "from sklearn.linear_model import LinearRegression\n",
    "from sklearn.pipeline import make_pipeline, Pipeline\n",
    "from sklearn.metrics import mean_absolute_error, mean_squared_error, root_mean_squared_error\n",
    "from sklearn.preprocessing import OneHotEncoder, TargetEncoder\n",
    "#from category_encoders import TargetEncoder\n",
    "from sklearn.compose import ColumnTransformer, make_column_transformer\n",
    "from tqdm import tqdm"
   ]
  },
  {
   "cell_type": "code",
   "execution_count": 6,
   "id": "5500a0a0-ee0a-4986-b9db-890e7b2e05a0",
   "metadata": {},
   "outputs": [],
   "source": [
    "X = df.drop(columns=['Listening_Time_minutes','fraction_listened'])\n",
    "y_abs = df['Listening_Time_minutes']\n",
    "y_rel = df['fraction_listened']"
   ]
  },
  {
   "cell_type": "code",
   "execution_count": 7,
   "id": "2a91818c-cc87-4a94-95dd-7d172e4c9663",
   "metadata": {},
   "outputs": [
    {
     "data": {
      "text/plain": [
       "['Episode_Length_minutes',\n",
       " 'Host_Popularity_percentage',\n",
       " 'Guest_Popularity_percentage',\n",
       " 'Number_of_Ads',\n",
       " 'Episode_Number',\n",
       " 'no_guest',\n",
       " 'sentiment_encoded']"
      ]
     },
     "execution_count": 7,
     "metadata": {},
     "output_type": "execute_result"
    }
   ],
   "source": [
    "numeric_cols = X.columns[X.dtypes!='object'].tolist()\n",
    "numeric_cols"
   ]
  },
  {
   "cell_type": "code",
   "execution_count": 8,
   "id": "dd4120b0-0404-467e-a60a-651ae599a4a7",
   "metadata": {},
   "outputs": [
    {
     "data": {
      "text/plain": [
       "['Podcast_Name', 'Genre', 'Publication_Day', 'Publication_Time']"
      ]
     },
     "execution_count": 8,
     "metadata": {},
     "output_type": "execute_result"
    }
   ],
   "source": [
    "cat_cols = X.columns[X.dtypes=='object'].tolist()\n",
    "cat_cols"
   ]
  },
  {
   "cell_type": "code",
   "execution_count": 9,
   "id": "26edb99b-5917-4487-82bf-d204f241c7c1",
   "metadata": {},
   "outputs": [],
   "source": [
    "# utils\n",
    "def rel_to_abs(y_pred_rel, X):\n",
    "    return y_pred_rel * X['Episode_Length_minutes']\n",
    "\n",
    "METRICS = {\n",
    "    'mae': mean_absolute_error,\n",
    "    'mse': mean_squared_error,\n",
    "    'rmse': root_mean_squared_error,\n",
    "}\n",
    "\n",
    "SPLITTER = KFold(n_splits=5, random_state=42, shuffle=True)\n",
    "\n",
    "def cv_model(model_constructor_f, X, is_rel, model_args={}):\n",
    "    results = []\n",
    "    models = []\n",
    "    for i, (train_idx, test_idx) in tqdm(enumerate(SPLITTER.split(X)), \n",
    "                                         total=SPLITTER.get_n_splits()):\n",
    "        X_train = X.loc[train_idx]\n",
    "        X_test = X.loc[test_idx]\n",
    "\n",
    "        y_train = y_rel[train_idx] if is_rel else y_abs[train_idx]\n",
    "        y_test = y_abs[test_idx]\n",
    "\n",
    "        # inst+fit model\n",
    "        model = model_constructor_f(**model_args)\n",
    "\n",
    "        model.fit(X_train, y_train)\n",
    "\n",
    "        # predict\n",
    "        y_pred = model.predict(X_test)\n",
    "\n",
    "        # if rel, adjust to abs\n",
    "        if is_rel:\n",
    "            y_pred = rel_to_abs(y_pred, X_test)\n",
    "\n",
    "        results.append({name:f(y_test, y_pred) for name,f in METRICS.items()})\n",
    "        models.append(model)\n",
    "\n",
    "    res_df = pd.DataFrame(results)\n",
    "    # add mean and std values across folds for all metrics\n",
    "    return pd.concat((res_df, res_df.describe().loc[['mean','std']])), models"
   ]
  },
  {
   "cell_type": "code",
   "execution_count": 10,
   "id": "62238301-6aa9-4267-9a9a-35fb3ad7754a",
   "metadata": {},
   "outputs": [],
   "source": [
    "# gráfico de importancias across-folds\n",
    "# utils\n",
    "def lr_weights(\n",
    "        models: Pipeline | LinearRegression | list[Pipeline] | list[LinearRegression],\n",
    "        feature_names: list[str],\n",
    "        horizontal: bool = True,\n",
    "        seed: int = 1234) -> None:\n",
    "    if not isinstance(models, list):\n",
    "        models = [models]\n",
    "    if isinstance(models[0], Pipeline):\n",
    "        models = [model[-1] for model in models]\n",
    "    coefs = np.vstack([np.concatenate([*x.coef_, x.intercept_]) for x in models])\n",
    "    df = pd.DataFrame(coefs, columns=feature_names+['intercept'])\n",
    "    ax = sns.barplot(df, orient='h' if horizontal else 'v', seed=seed)\n",
    "    ax.set_title(f\"LR coefficients across evaluation procedure\")\n",
    "    plt.show()\n",
    "\n",
    "def rf_importance(\n",
    "        models: Pipeline | RandomForestRegressor | list[RandomForestRegressor] | list[Pipeline],\n",
    "        feature_names: list[str],\n",
    "        horizontal: bool = True,\n",
    "        seed: int = 1234) -> None:\n",
    "    if not isinstance(models, list):\n",
    "        models = [models]\n",
    "    if isinstance(models[0], Pipeline):\n",
    "        models = [model[-1] for model in models]\n",
    "    df_importances = pd.DataFrame([model.feature_importances_ for model in models], columns=feature_names)\n",
    "    ax = sns.barplot(df_importances, orient='h' if horizontal else 'v', seed=seed)\n",
    "    ax.set_title(f\"RF feature importances across evaluation procedure\")\n",
    "    plt.show()"
   ]
  },
  {
   "cell_type": "markdown",
   "id": "88813b93-34ae-45f8-9159-584b78ceb943",
   "metadata": {},
   "source": [
    "## Sobre target absoluto"
   ]
  },
  {
   "cell_type": "code",
   "execution_count": 11,
   "id": "bdc56a0f-e903-4461-8b03-98eebfe1722d",
   "metadata": {},
   "outputs": [
    {
     "data": {
      "text/html": [
       "<div>\n",
       "<style scoped>\n",
       "    .dataframe tbody tr th:only-of-type {\n",
       "        vertical-align: middle;\n",
       "    }\n",
       "\n",
       "    .dataframe tbody tr th {\n",
       "        vertical-align: top;\n",
       "    }\n",
       "\n",
       "    .dataframe thead th {\n",
       "        text-align: right;\n",
       "    }\n",
       "</style>\n",
       "<table border=\"1\" class=\"dataframe\">\n",
       "  <thead>\n",
       "    <tr style=\"text-align: right;\">\n",
       "      <th></th>\n",
       "      <th>Episode_Length_minutes</th>\n",
       "      <th>Host_Popularity_percentage</th>\n",
       "      <th>Guest_Popularity_percentage</th>\n",
       "      <th>Number_of_Ads</th>\n",
       "      <th>Episode_Number</th>\n",
       "      <th>no_guest</th>\n",
       "      <th>sentiment_encoded</th>\n",
       "    </tr>\n",
       "  </thead>\n",
       "  <tbody>\n",
       "    <tr>\n",
       "      <th>0</th>\n",
       "      <td>99.25</td>\n",
       "      <td>21.37</td>\n",
       "      <td>70.22</td>\n",
       "      <td>3</td>\n",
       "      <td>77</td>\n",
       "      <td>False</td>\n",
       "      <td>1</td>\n",
       "    </tr>\n",
       "    <tr>\n",
       "      <th>1</th>\n",
       "      <td>19.43</td>\n",
       "      <td>47.19</td>\n",
       "      <td>75.15</td>\n",
       "      <td>1</td>\n",
       "      <td>6</td>\n",
       "      <td>False</td>\n",
       "      <td>0</td>\n",
       "    </tr>\n",
       "    <tr>\n",
       "      <th>2</th>\n",
       "      <td>117.03</td>\n",
       "      <td>96.33</td>\n",
       "      <td>57.95</td>\n",
       "      <td>3</td>\n",
       "      <td>1</td>\n",
       "      <td>False</td>\n",
       "      <td>0</td>\n",
       "    </tr>\n",
       "    <tr>\n",
       "      <th>3</th>\n",
       "      <td>16.97</td>\n",
       "      <td>25.73</td>\n",
       "      <td>24.19</td>\n",
       "      <td>0</td>\n",
       "      <td>38</td>\n",
       "      <td>False</td>\n",
       "      <td>1</td>\n",
       "    </tr>\n",
       "    <tr>\n",
       "      <th>4</th>\n",
       "      <td>28.06</td>\n",
       "      <td>22.02</td>\n",
       "      <td>-1.00</td>\n",
       "      <td>1</td>\n",
       "      <td>87</td>\n",
       "      <td>True</td>\n",
       "      <td>0</td>\n",
       "    </tr>\n",
       "    <tr>\n",
       "      <th>...</th>\n",
       "      <td>...</td>\n",
       "      <td>...</td>\n",
       "      <td>...</td>\n",
       "      <td>...</td>\n",
       "      <td>...</td>\n",
       "      <td>...</td>\n",
       "      <td>...</td>\n",
       "    </tr>\n",
       "    <tr>\n",
       "      <th>40369</th>\n",
       "      <td>92.44</td>\n",
       "      <td>27.34</td>\n",
       "      <td>63.54</td>\n",
       "      <td>3</td>\n",
       "      <td>77</td>\n",
       "      <td>False</td>\n",
       "      <td>1</td>\n",
       "    </tr>\n",
       "    <tr>\n",
       "      <th>40370</th>\n",
       "      <td>50.30</td>\n",
       "      <td>20.61</td>\n",
       "      <td>55.63</td>\n",
       "      <td>0</td>\n",
       "      <td>100</td>\n",
       "      <td>False</td>\n",
       "      <td>1</td>\n",
       "    </tr>\n",
       "    <tr>\n",
       "      <th>40371</th>\n",
       "      <td>89.78</td>\n",
       "      <td>93.08</td>\n",
       "      <td>93.12</td>\n",
       "      <td>3</td>\n",
       "      <td>12</td>\n",
       "      <td>False</td>\n",
       "      <td>1</td>\n",
       "    </tr>\n",
       "    <tr>\n",
       "      <th>40372</th>\n",
       "      <td>77.86</td>\n",
       "      <td>41.04</td>\n",
       "      <td>52.33</td>\n",
       "      <td>2</td>\n",
       "      <td>18</td>\n",
       "      <td>False</td>\n",
       "      <td>1</td>\n",
       "    </tr>\n",
       "    <tr>\n",
       "      <th>40373</th>\n",
       "      <td>104.65</td>\n",
       "      <td>62.91</td>\n",
       "      <td>92.76</td>\n",
       "      <td>1</td>\n",
       "      <td>64</td>\n",
       "      <td>False</td>\n",
       "      <td>-1</td>\n",
       "    </tr>\n",
       "  </tbody>\n",
       "</table>\n",
       "<p>40374 rows × 7 columns</p>\n",
       "</div>"
      ],
      "text/plain": [
       "       Episode_Length_minutes  Host_Popularity_percentage  \\\n",
       "0                       99.25                       21.37   \n",
       "1                       19.43                       47.19   \n",
       "2                      117.03                       96.33   \n",
       "3                       16.97                       25.73   \n",
       "4                       28.06                       22.02   \n",
       "...                       ...                         ...   \n",
       "40369                   92.44                       27.34   \n",
       "40370                   50.30                       20.61   \n",
       "40371                   89.78                       93.08   \n",
       "40372                   77.86                       41.04   \n",
       "40373                  104.65                       62.91   \n",
       "\n",
       "       Guest_Popularity_percentage  Number_of_Ads  Episode_Number  no_guest  \\\n",
       "0                            70.22              3              77     False   \n",
       "1                            75.15              1               6     False   \n",
       "2                            57.95              3               1     False   \n",
       "3                            24.19              0              38     False   \n",
       "4                            -1.00              1              87      True   \n",
       "...                            ...            ...             ...       ...   \n",
       "40369                        63.54              3              77     False   \n",
       "40370                        55.63              0             100     False   \n",
       "40371                        93.12              3              12     False   \n",
       "40372                        52.33              2              18     False   \n",
       "40373                        92.76              1              64     False   \n",
       "\n",
       "       sentiment_encoded  \n",
       "0                      1  \n",
       "1                      0  \n",
       "2                      0  \n",
       "3                      1  \n",
       "4                      0  \n",
       "...                  ...  \n",
       "40369                  1  \n",
       "40370                  1  \n",
       "40371                  1  \n",
       "40372                  1  \n",
       "40373                 -1  \n",
       "\n",
       "[40374 rows x 7 columns]"
      ]
     },
     "execution_count": 11,
     "metadata": {},
     "output_type": "execute_result"
    }
   ],
   "source": [
    "X_only_numeric = X[numeric_cols]\n",
    "X_only_numeric"
   ]
  },
  {
   "cell_type": "code",
   "execution_count": 12,
   "id": "a6ec5be5-956a-44f4-a58d-0b9c08e151a5",
   "metadata": {},
   "outputs": [
    {
     "name": "stderr",
     "output_type": "stream",
     "text": [
      "100%|██████████| 5/5 [00:07<00:00,  1.43s/it]\n"
     ]
    }
   ],
   "source": [
    "res_rf_abs, models_rf_abs = cv_model(\n",
    "    lambda **kwargs: RandomForestRegressor(**kwargs), \n",
    "    X=X_only_numeric,\n",
    "    is_rel=False,\n",
    "    model_args=dict(n_jobs=-1)\n",
    ")"
   ]
  },
  {
   "cell_type": "code",
   "execution_count": 13,
   "id": "ae2a77b1-0dee-4957-b383-684d14bd3a57",
   "metadata": {},
   "outputs": [
    {
     "data": {
      "text/html": [
       "<div>\n",
       "<style scoped>\n",
       "    .dataframe tbody tr th:only-of-type {\n",
       "        vertical-align: middle;\n",
       "    }\n",
       "\n",
       "    .dataframe tbody tr th {\n",
       "        vertical-align: top;\n",
       "    }\n",
       "\n",
       "    .dataframe thead th {\n",
       "        text-align: right;\n",
       "    }\n",
       "</style>\n",
       "<table border=\"1\" class=\"dataframe\">\n",
       "  <thead>\n",
       "    <tr style=\"text-align: right;\">\n",
       "      <th></th>\n",
       "      <th>mae</th>\n",
       "      <th>mse</th>\n",
       "      <th>rmse</th>\n",
       "    </tr>\n",
       "  </thead>\n",
       "  <tbody>\n",
       "    <tr>\n",
       "      <th>0</th>\n",
       "      <td>9.086769</td>\n",
       "      <td>134.672304</td>\n",
       "      <td>11.604840</td>\n",
       "    </tr>\n",
       "    <tr>\n",
       "      <th>1</th>\n",
       "      <td>8.944927</td>\n",
       "      <td>131.564962</td>\n",
       "      <td>11.470177</td>\n",
       "    </tr>\n",
       "    <tr>\n",
       "      <th>2</th>\n",
       "      <td>8.983914</td>\n",
       "      <td>132.972210</td>\n",
       "      <td>11.531358</td>\n",
       "    </tr>\n",
       "    <tr>\n",
       "      <th>3</th>\n",
       "      <td>8.996242</td>\n",
       "      <td>132.713907</td>\n",
       "      <td>11.520152</td>\n",
       "    </tr>\n",
       "    <tr>\n",
       "      <th>4</th>\n",
       "      <td>9.039005</td>\n",
       "      <td>133.341290</td>\n",
       "      <td>11.547350</td>\n",
       "    </tr>\n",
       "    <tr>\n",
       "      <th>mean</th>\n",
       "      <td>9.010171</td>\n",
       "      <td>133.052935</td>\n",
       "      <td>11.534775</td>\n",
       "    </tr>\n",
       "    <tr>\n",
       "      <th>std</th>\n",
       "      <td>0.054403</td>\n",
       "      <td>1.122611</td>\n",
       "      <td>0.048646</td>\n",
       "    </tr>\n",
       "  </tbody>\n",
       "</table>\n",
       "</div>"
      ],
      "text/plain": [
       "           mae         mse       rmse\n",
       "0     9.086769  134.672304  11.604840\n",
       "1     8.944927  131.564962  11.470177\n",
       "2     8.983914  132.972210  11.531358\n",
       "3     8.996242  132.713907  11.520152\n",
       "4     9.039005  133.341290  11.547350\n",
       "mean  9.010171  133.052935  11.534775\n",
       "std   0.054403    1.122611   0.048646"
      ]
     },
     "execution_count": 13,
     "metadata": {},
     "output_type": "execute_result"
    }
   ],
   "source": [
    "res_rf_abs"
   ]
  },
  {
   "cell_type": "code",
   "execution_count": 14,
   "id": "772c5610-f056-4d3d-aba2-111215fff183",
   "metadata": {},
   "outputs": [
    {
     "data": {
      "image/png": "[encoded data removed]",
      "text/plain": [
       "<Figure size 640x480 with 1 Axes>"
      ]
     },
     "metadata": {},
     "output_type": "display_data"
    }
   ],
   "source": [
    "rf_importance(models_rf_abs, X_only_numeric.columns)"
   ]
  },
  {
   "cell_type": "markdown",
   "id": "f30aa45e-09fc-4659-b8a2-b4176f83abff",
   "metadata": {},
   "source": [
    "## Sobre target relativo"
   ]
  },
  {
   "cell_type": "code",
   "execution_count": 15,
   "id": "02ffc04f-5eb3-49c7-ba38-620e5ba71424",
   "metadata": {},
   "outputs": [
    {
     "name": "stderr",
     "output_type": "stream",
     "text": [
      "100%|██████████| 5/5 [00:08<00:00,  1.74s/it]\n"
     ]
    }
   ],
   "source": [
    "res_rf_rel, models_rf_rel = cv_model(\n",
    "    lambda **kwargs: RandomForestRegressor(**kwargs), \n",
    "    X=X_only_numeric,\n",
    "    is_rel=True,\n",
    "    model_args=dict(n_jobs=-1)\n",
    ")"
   ]
  },
  {
   "cell_type": "code",
   "execution_count": 16,
   "id": "8fab8b57-dce5-4304-aa66-ab9ee2f94df7",
   "metadata": {},
   "outputs": [
    {
     "data": {
      "text/html": [
       "<div>\n",
       "<style scoped>\n",
       "    .dataframe tbody tr th:only-of-type {\n",
       "        vertical-align: middle;\n",
       "    }\n",
       "\n",
       "    .dataframe tbody tr th {\n",
       "        vertical-align: top;\n",
       "    }\n",
       "\n",
       "    .dataframe thead th {\n",
       "        text-align: right;\n",
       "    }\n",
       "</style>\n",
       "<table border=\"1\" class=\"dataframe\">\n",
       "  <thead>\n",
       "    <tr style=\"text-align: right;\">\n",
       "      <th></th>\n",
       "      <th>mae</th>\n",
       "      <th>mse</th>\n",
       "      <th>rmse</th>\n",
       "    </tr>\n",
       "  </thead>\n",
       "  <tbody>\n",
       "    <tr>\n",
       "      <th>0</th>\n",
       "      <td>9.061896</td>\n",
       "      <td>133.891293</td>\n",
       "      <td>11.571141</td>\n",
       "    </tr>\n",
       "    <tr>\n",
       "      <th>1</th>\n",
       "      <td>8.884489</td>\n",
       "      <td>130.020016</td>\n",
       "      <td>11.402632</td>\n",
       "    </tr>\n",
       "    <tr>\n",
       "      <th>2</th>\n",
       "      <td>8.955140</td>\n",
       "      <td>131.850715</td>\n",
       "      <td>11.482627</td>\n",
       "    </tr>\n",
       "    <tr>\n",
       "      <th>3</th>\n",
       "      <td>8.959701</td>\n",
       "      <td>131.947928</td>\n",
       "      <td>11.486859</td>\n",
       "    </tr>\n",
       "    <tr>\n",
       "      <th>4</th>\n",
       "      <td>9.053105</td>\n",
       "      <td>133.785367</td>\n",
       "      <td>11.566562</td>\n",
       "    </tr>\n",
       "    <tr>\n",
       "      <th>mean</th>\n",
       "      <td>8.982866</td>\n",
       "      <td>132.299064</td>\n",
       "      <td>11.501964</td>\n",
       "    </tr>\n",
       "    <tr>\n",
       "      <th>std</th>\n",
       "      <td>0.074436</td>\n",
       "      <td>1.601769</td>\n",
       "      <td>0.069691</td>\n",
       "    </tr>\n",
       "  </tbody>\n",
       "</table>\n",
       "</div>"
      ],
      "text/plain": [
       "           mae         mse       rmse\n",
       "0     9.061896  133.891293  11.571141\n",
       "1     8.884489  130.020016  11.402632\n",
       "2     8.955140  131.850715  11.482627\n",
       "3     8.959701  131.947928  11.486859\n",
       "4     9.053105  133.785367  11.566562\n",
       "mean  8.982866  132.299064  11.501964\n",
       "std   0.074436    1.601769   0.069691"
      ]
     },
     "execution_count": 16,
     "metadata": {},
     "output_type": "execute_result"
    }
   ],
   "source": [
    "res_rf_rel"
   ]
  },
  {
   "cell_type": "code",
   "execution_count": 17,
   "id": "e0f47d92-4023-4780-9bd9-9bc163814d20",
   "metadata": {},
   "outputs": [
    {
     "data": {
      "image/png": "[encoded data removed]",
      "text/plain": [
       "<Figure size 640x480 with 1 Axes>"
      ]
     },
     "metadata": {},
     "output_type": "display_data"
    }
   ],
   "source": [
    "rf_importance(models_rf_rel, X_only_numeric.columns)"
   ]
  },
  {
   "cell_type": "markdown",
   "id": "4ccbc430-5ddc-4bf9-80b1-ac3e21ea96ad",
   "metadata": {},
   "source": [
    "Se observa que la diferencia en performance entre usar target relativo y absoluto es mínima, aunque favorece levemente al target relativo.\n",
    "\n",
    "Sin embargo, debe destacarse que el modelo con target relativo utiliza mucho mejor las diferentes features, mientras que el absoluto se concentra casi exclusivamente en la duración del podcast."
   ]
  },
  {
   "cell_type": "markdown",
   "id": "92071810-c5d7-4dbc-9c77-ae52e1289a06",
   "metadata": {},
   "source": [
    "# Baseline + variables categóricas"
   ]
  },
  {
   "cell_type": "markdown",
   "id": "24af1017-84e9-4f8c-a5a6-84e231bf9820",
   "metadata": {},
   "source": [
    "## One Hot Encoding"
   ]
  },
  {
   "cell_type": "code",
   "execution_count": 18,
   "id": "2a79304b-0e47-411f-be24-a9e0f5975d4c",
   "metadata": {},
   "outputs": [
    {
     "name": "stderr",
     "output_type": "stream",
     "text": [
      "100%|██████████| 5/5 [00:32<00:00,  6.50s/it]\n"
     ]
    }
   ],
   "source": [
    "res_onehot_rel, models_onehot_rel = cv_model(\n",
    "    lambda : make_pipeline(\n",
    "        make_column_transformer(\n",
    "            ('passthrough',numeric_cols),\n",
    "            (OneHotEncoder(sparse_output=False), cat_cols),\n",
    "            sparse_threshold=0,\n",
    "            n_jobs=-1\n",
    "        ),\n",
    "        RandomForestRegressor(n_jobs=-1)\n",
    "    ),\n",
    "    X=X,\n",
    "    is_rel=True\n",
    ")"
   ]
  },
  {
   "cell_type": "code",
   "execution_count": 19,
   "id": "39f1d02c-b91f-44bf-9983-3c2ebb459407",
   "metadata": {},
   "outputs": [
    {
     "data": {
      "text/html": [
       "<div>\n",
       "<style scoped>\n",
       "    .dataframe tbody tr th:only-of-type {\n",
       "        vertical-align: middle;\n",
       "    }\n",
       "\n",
       "    .dataframe tbody tr th {\n",
       "        vertical-align: top;\n",
       "    }\n",
       "\n",
       "    .dataframe thead th {\n",
       "        text-align: right;\n",
       "    }\n",
       "</style>\n",
       "<table border=\"1\" class=\"dataframe\">\n",
       "  <thead>\n",
       "    <tr style=\"text-align: right;\">\n",
       "      <th></th>\n",
       "      <th>mae</th>\n",
       "      <th>mse</th>\n",
       "      <th>rmse</th>\n",
       "    </tr>\n",
       "  </thead>\n",
       "  <tbody>\n",
       "    <tr>\n",
       "      <th>0</th>\n",
       "      <td>9.015243</td>\n",
       "      <td>131.362369</td>\n",
       "      <td>11.461342</td>\n",
       "    </tr>\n",
       "    <tr>\n",
       "      <th>1</th>\n",
       "      <td>8.838851</td>\n",
       "      <td>127.284171</td>\n",
       "      <td>11.282029</td>\n",
       "    </tr>\n",
       "    <tr>\n",
       "      <th>2</th>\n",
       "      <td>8.866801</td>\n",
       "      <td>128.999646</td>\n",
       "      <td>11.357801</td>\n",
       "    </tr>\n",
       "    <tr>\n",
       "      <th>3</th>\n",
       "      <td>8.865036</td>\n",
       "      <td>127.714930</td>\n",
       "      <td>11.301103</td>\n",
       "    </tr>\n",
       "    <tr>\n",
       "      <th>4</th>\n",
       "      <td>8.906970</td>\n",
       "      <td>128.757438</td>\n",
       "      <td>11.347133</td>\n",
       "    </tr>\n",
       "    <tr>\n",
       "      <th>mean</th>\n",
       "      <td>8.898580</td>\n",
       "      <td>128.823711</td>\n",
       "      <td>11.349882</td>\n",
       "    </tr>\n",
       "    <tr>\n",
       "      <th>std</th>\n",
       "      <td>0.069612</td>\n",
       "      <td>1.587428</td>\n",
       "      <td>0.069780</td>\n",
       "    </tr>\n",
       "  </tbody>\n",
       "</table>\n",
       "</div>"
      ],
      "text/plain": [
       "           mae         mse       rmse\n",
       "0     9.015243  131.362369  11.461342\n",
       "1     8.838851  127.284171  11.282029\n",
       "2     8.866801  128.999646  11.357801\n",
       "3     8.865036  127.714930  11.301103\n",
       "4     8.906970  128.757438  11.347133\n",
       "mean  8.898580  128.823711  11.349882\n",
       "std   0.069612    1.587428   0.069780"
      ]
     },
     "execution_count": 19,
     "metadata": {},
     "output_type": "execute_result"
    }
   ],
   "source": [
    "res_onehot_rel"
   ]
  },
  {
   "cell_type": "code",
   "execution_count": 20,
   "id": "a830f2dd-f7eb-4aca-8352-7aa562978044",
   "metadata": {},
   "outputs": [
    {
     "data": {
      "image/png": "[encoded data removed]",
      "text/plain": [
       "<Figure size 800x1500 with 1 Axes>"
      ]
     },
     "metadata": {},
     "output_type": "display_data"
    },
    {
     "data": {
      "text/plain": [
       "<Figure size 640x480 with 0 Axes>"
      ]
     },
     "metadata": {},
     "output_type": "display_data"
    }
   ],
   "source": [
    "fig, ax = plt.subplots(figsize=(8,15))\n",
    "rf_importance(models_onehot_rel, models_onehot_rel[0][-2].get_feature_names_out())\n",
    "plt.tight_layout()"
   ]
  },
  {
   "cell_type": "markdown",
   "id": "c2d7449d-eecf-4e63-87f3-8424b944887f",
   "metadata": {},
   "source": [
    "## Target Encoding"
   ]
  },
  {
   "cell_type": "code",
   "execution_count": 21,
   "id": "0fd576b0-a41f-42d1-aef3-a17bc3ab5031",
   "metadata": {},
   "outputs": [
    {
     "name": "stderr",
     "output_type": "stream",
     "text": [
      "100%|██████████| 5/5 [00:19<00:00,  3.96s/it]\n"
     ]
    }
   ],
   "source": [
    "res_tgt_rel, models_tgt_rel = cv_model(\n",
    "    lambda : make_pipeline(\n",
    "        make_column_transformer(\n",
    "            ('passthrough',numeric_cols),\n",
    "            (TargetEncoder(target_type='continuous', random_state=42), cat_cols),\n",
    "            sparse_threshold=0,\n",
    "            n_jobs=-1\n",
    "        ),\n",
    "        RandomForestRegressor(n_jobs=-1)\n",
    "    ),\n",
    "    X=X,\n",
    "    is_rel=True\n",
    ")"
   ]
  },
  {
   "cell_type": "code",
   "execution_count": 22,
   "id": "63e25593-8782-46d6-9733-a66491f7aa1c",
   "metadata": {},
   "outputs": [
    {
     "data": {
      "text/html": [
       "<div>\n",
       "<style scoped>\n",
       "    .dataframe tbody tr th:only-of-type {\n",
       "        vertical-align: middle;\n",
       "    }\n",
       "\n",
       "    .dataframe tbody tr th {\n",
       "        vertical-align: top;\n",
       "    }\n",
       "\n",
       "    .dataframe thead th {\n",
       "        text-align: right;\n",
       "    }\n",
       "</style>\n",
       "<table border=\"1\" class=\"dataframe\">\n",
       "  <thead>\n",
       "    <tr style=\"text-align: right;\">\n",
       "      <th></th>\n",
       "      <th>mae</th>\n",
       "      <th>mse</th>\n",
       "      <th>rmse</th>\n",
       "    </tr>\n",
       "  </thead>\n",
       "  <tbody>\n",
       "    <tr>\n",
       "      <th>0</th>\n",
       "      <td>8.955120</td>\n",
       "      <td>130.183916</td>\n",
       "      <td>11.409817</td>\n",
       "    </tr>\n",
       "    <tr>\n",
       "      <th>1</th>\n",
       "      <td>8.850832</td>\n",
       "      <td>127.226502</td>\n",
       "      <td>11.279473</td>\n",
       "    </tr>\n",
       "    <tr>\n",
       "      <th>2</th>\n",
       "      <td>8.822978</td>\n",
       "      <td>127.587639</td>\n",
       "      <td>11.295470</td>\n",
       "    </tr>\n",
       "    <tr>\n",
       "      <th>3</th>\n",
       "      <td>8.840064</td>\n",
       "      <td>125.717678</td>\n",
       "      <td>11.212389</td>\n",
       "    </tr>\n",
       "    <tr>\n",
       "      <th>4</th>\n",
       "      <td>8.891537</td>\n",
       "      <td>127.855851</td>\n",
       "      <td>11.307336</td>\n",
       "    </tr>\n",
       "    <tr>\n",
       "      <th>mean</th>\n",
       "      <td>8.872106</td>\n",
       "      <td>127.714317</td>\n",
       "      <td>11.300897</td>\n",
       "    </tr>\n",
       "    <tr>\n",
       "      <th>std</th>\n",
       "      <td>0.052825</td>\n",
       "      <td>1.609311</td>\n",
       "      <td>0.071111</td>\n",
       "    </tr>\n",
       "  </tbody>\n",
       "</table>\n",
       "</div>"
      ],
      "text/plain": [
       "           mae         mse       rmse\n",
       "0     8.955120  130.183916  11.409817\n",
       "1     8.850832  127.226502  11.279473\n",
       "2     8.822978  127.587639  11.295470\n",
       "3     8.840064  125.717678  11.212389\n",
       "4     8.891537  127.855851  11.307336\n",
       "mean  8.872106  127.714317  11.300897\n",
       "std   0.052825    1.609311   0.071111"
      ]
     },
     "execution_count": 22,
     "metadata": {},
     "output_type": "execute_result"
    }
   ],
   "source": [
    "res_tgt_rel"
   ]
  },
  {
   "cell_type": "code",
   "execution_count": 23,
   "id": "312a7d25-1cea-4774-a1c4-8062e1838b5e",
   "metadata": {},
   "outputs": [
    {
     "data": {
      "image/png": "[encoded data removed]",
      "text/plain": [
       "<Figure size 640x480 with 1 Axes>"
      ]
     },
     "metadata": {},
     "output_type": "display_data"
    }
   ],
   "source": [
    "rf_importance(models_tgt_rel, models_tgt_rel[0][-2].get_feature_names_out())"
   ]
  },
  {
   "cell_type": "markdown",
   "id": "6f03ab9d-fe80-4703-b100-399e7d5a70fa",
   "metadata": {},
   "source": [
    "Como se puede observar, la performance de las categorías encodeadas vía Target Encoding es superior a la de One Hot Encoding, incluso para aquellas de baja cardinalidad. Cabe destacar que el Target Encoder tiene hiperparámetros que no han sido tuneados, se están utilizando los default."
   ]
  },
  {
   "cell_type": "markdown",
   "id": "fab1f4d4-adbc-4890-aefb-bea1029c62ca",
   "metadata": {},
   "source": [
    "# Feature Engineering"
   ]
  },
  {
   "cell_type": "code",
   "execution_count": 24,
   "id": "8bfdd7ed-ca89-4627-95ba-01617a84ec56",
   "metadata": {},
   "outputs": [
    {
     "data": {
      "text/plain": [
       "'# cantidad media de ads por minuto \\nX[\\'ad_density\\'] = X[\\'Number_of_Ads\\'] / X[\\'Episode_Length_minutes\\']\\n\\n# popularidad sumada de Host y Guest\\nX[\\'joint_popularity\\'] = X[\\'Host_Popularity_percentage\\'] + X[\\'Guest_Popularity_percentage\\']\\n\\n# como son pocas categóricas, se pueden hacer combinaciones y luego encodearlas por algún tipo de target encoding\\nfor n in range(2,len(cat_cols)+1):\\n    for cols in combinations(cat_cols,n):\\n        cols_list = list(cols) # pandas gets angry if they\\'re tuples instead of lists\\n        X[f\"comb_{n}_\"+\"+\".join(cols)] = X[cols_list].apply(lambda s: \\'-\\'.join(s), axis=1)'"
      ]
     },
     "execution_count": 24,
     "metadata": {},
     "output_type": "execute_result"
    }
   ],
   "source": [
    "# Comentado porque hay un error.\n",
    "\n",
    "\"\"\"# cantidad media de ads por minuto \n",
    "X['ad_density'] = X['Number_of_Ads'] / X['Episode_Length_minutes']\n",
    "\n",
    "# popularidad sumada de Host y Guest\n",
    "X['joint_popularity'] = X['Host_Popularity_percentage'] + X['Guest_Popularity_percentage']\n",
    "\n",
    "# como son pocas categóricas, se pueden hacer combinaciones y luego encodearlas por algún tipo de target encoding\n",
    "for n in range(2,len(cat_cols)+1):\n",
    "    for cols in combinations(cat_cols,n):\n",
    "        cols_list = list(cols) # pandas gets angry if they're tuples instead of lists\n",
    "        X[f\"comb_{n}_\"+\"+\".join(cols)] = X[cols_list].apply(lambda s: '-'.join(s), axis=1)\"\"\""
   ]
  },
  {
   "cell_type": "code",
   "execution_count": 25,
   "id": "d4af5c04-fc34-4d2b-a59a-2c4583bf57cd",
   "metadata": {},
   "outputs": [],
   "source": [
    "comb_cols = X.columns[X.columns.str.startswith('comb_')].tolist()"
   ]
  },
  {
   "cell_type": "code",
   "execution_count": 26,
   "id": "8fba3b43-9c00-4c35-b563-35890595255b",
   "metadata": {},
   "outputs": [
    {
     "data": {
      "text/html": [
       "<div>\n",
       "<style scoped>\n",
       "    .dataframe tbody tr th:only-of-type {\n",
       "        vertical-align: middle;\n",
       "    }\n",
       "\n",
       "    .dataframe tbody tr th {\n",
       "        vertical-align: top;\n",
       "    }\n",
       "\n",
       "    .dataframe thead th {\n",
       "        text-align: right;\n",
       "    }\n",
       "</style>\n",
       "<table border=\"1\" class=\"dataframe\">\n",
       "  <thead>\n",
       "    <tr style=\"text-align: right;\">\n",
       "      <th></th>\n",
       "      <th>0</th>\n",
       "      <th>1</th>\n",
       "      <th>2</th>\n",
       "      <th>3</th>\n",
       "      <th>4</th>\n",
       "    </tr>\n",
       "  </thead>\n",
       "  <tbody>\n",
       "    <tr>\n",
       "      <th>Podcast_Name</th>\n",
       "      <td>Healthy Living</td>\n",
       "      <td>Mystery Matters</td>\n",
       "      <td>Current Affairs</td>\n",
       "      <td>Mystery Matters</td>\n",
       "      <td>Money Matters</td>\n",
       "    </tr>\n",
       "    <tr>\n",
       "      <th>Episode_Length_minutes</th>\n",
       "      <td>99.25</td>\n",
       "      <td>19.43</td>\n",
       "      <td>117.03</td>\n",
       "      <td>16.97</td>\n",
       "      <td>28.06</td>\n",
       "    </tr>\n",
       "    <tr>\n",
       "      <th>Genre</th>\n",
       "      <td>Health</td>\n",
       "      <td>True Crime</td>\n",
       "      <td>News</td>\n",
       "      <td>True Crime</td>\n",
       "      <td>Business</td>\n",
       "    </tr>\n",
       "    <tr>\n",
       "      <th>Host_Popularity_percentage</th>\n",
       "      <td>21.37</td>\n",
       "      <td>47.19</td>\n",
       "      <td>96.33</td>\n",
       "      <td>25.73</td>\n",
       "      <td>22.02</td>\n",
       "    </tr>\n",
       "    <tr>\n",
       "      <th>Publication_Day</th>\n",
       "      <td>Thursday</td>\n",
       "      <td>Friday</td>\n",
       "      <td>Sunday</td>\n",
       "      <td>Monday</td>\n",
       "      <td>Wednesday</td>\n",
       "    </tr>\n",
       "    <tr>\n",
       "      <th>Publication_Time</th>\n",
       "      <td>Night</td>\n",
       "      <td>Evening</td>\n",
       "      <td>Night</td>\n",
       "      <td>Night</td>\n",
       "      <td>Morning</td>\n",
       "    </tr>\n",
       "    <tr>\n",
       "      <th>Guest_Popularity_percentage</th>\n",
       "      <td>70.22</td>\n",
       "      <td>75.15</td>\n",
       "      <td>57.95</td>\n",
       "      <td>24.19</td>\n",
       "      <td>-1.0</td>\n",
       "    </tr>\n",
       "    <tr>\n",
       "      <th>Number_of_Ads</th>\n",
       "      <td>3</td>\n",
       "      <td>1</td>\n",
       "      <td>3</td>\n",
       "      <td>0</td>\n",
       "      <td>1</td>\n",
       "    </tr>\n",
       "    <tr>\n",
       "      <th>Episode_Number</th>\n",
       "      <td>77</td>\n",
       "      <td>6</td>\n",
       "      <td>1</td>\n",
       "      <td>38</td>\n",
       "      <td>87</td>\n",
       "    </tr>\n",
       "    <tr>\n",
       "      <th>no_guest</th>\n",
       "      <td>False</td>\n",
       "      <td>False</td>\n",
       "      <td>False</td>\n",
       "      <td>False</td>\n",
       "      <td>True</td>\n",
       "    </tr>\n",
       "    <tr>\n",
       "      <th>sentiment_encoded</th>\n",
       "      <td>1</td>\n",
       "      <td>0</td>\n",
       "      <td>0</td>\n",
       "      <td>1</td>\n",
       "      <td>0</td>\n",
       "    </tr>\n",
       "  </tbody>\n",
       "</table>\n",
       "</div>"
      ],
      "text/plain": [
       "                                          0                1                2  \\\n",
       "Podcast_Name                 Healthy Living  Mystery Matters  Current Affairs   \n",
       "Episode_Length_minutes                99.25            19.43           117.03   \n",
       "Genre                                Health       True Crime             News   \n",
       "Host_Popularity_percentage            21.37            47.19            96.33   \n",
       "Publication_Day                    Thursday           Friday           Sunday   \n",
       "Publication_Time                      Night          Evening            Night   \n",
       "Guest_Popularity_percentage           70.22            75.15            57.95   \n",
       "Number_of_Ads                             3                1                3   \n",
       "Episode_Number                           77                6                1   \n",
       "no_guest                              False            False            False   \n",
       "sentiment_encoded                         1                0                0   \n",
       "\n",
       "                                           3              4  \n",
       "Podcast_Name                 Mystery Matters  Money Matters  \n",
       "Episode_Length_minutes                 16.97          28.06  \n",
       "Genre                             True Crime       Business  \n",
       "Host_Popularity_percentage             25.73          22.02  \n",
       "Publication_Day                       Monday      Wednesday  \n",
       "Publication_Time                       Night        Morning  \n",
       "Guest_Popularity_percentage            24.19           -1.0  \n",
       "Number_of_Ads                              0              1  \n",
       "Episode_Number                            38             87  \n",
       "no_guest                               False           True  \n",
       "sentiment_encoded                          1              0  "
      ]
     },
     "execution_count": 26,
     "metadata": {},
     "output_type": "execute_result"
    }
   ],
   "source": [
    "# a ver como se ve\n",
    "X.head().T"
   ]
  },
  {
   "cell_type": "markdown",
   "id": "09cc3dc0-8f8d-42c9-b4f8-bc9600056312",
   "metadata": {},
   "source": [
    "Probamos su importancia utilizando un Random Forest con Target Encoding y valores default como antes."
   ]
  },
  {
   "cell_type": "code",
   "execution_count": 27,
   "id": "2c16ff19-4904-4899-80b9-1f9e54f5685a",
   "metadata": {},
   "outputs": [
    {
     "name": "stderr",
     "output_type": "stream",
     "text": [
      "100%|██████████| 5/5 [00:15<00:00,  3.05s/it]\n"
     ]
    }
   ],
   "source": [
    "res_fe_rel, models_fe_rel = cv_model(\n",
    "    lambda : make_pipeline(\n",
    "        make_column_transformer(\n",
    "            ('passthrough',X.columns[X.dtypes != 'object']),\n",
    "            (TargetEncoder(target_type='continuous', random_state=42), cat_cols+comb_cols),\n",
    "            sparse_threshold=0,\n",
    "            n_jobs=-1\n",
    "        ),\n",
    "        RandomForestRegressor(n_jobs=-1)\n",
    "    ),\n",
    "    X=X,\n",
    "    is_rel=True\n",
    ")"
   ]
  },
  {
   "cell_type": "code",
   "execution_count": 28,
   "id": "e0233c49-671b-400d-98e4-bdfc1c3ca90c",
   "metadata": {},
   "outputs": [
    {
     "data": {
      "text/html": [
       "<div>\n",
       "<style scoped>\n",
       "    .dataframe tbody tr th:only-of-type {\n",
       "        vertical-align: middle;\n",
       "    }\n",
       "\n",
       "    .dataframe tbody tr th {\n",
       "        vertical-align: top;\n",
       "    }\n",
       "\n",
       "    .dataframe thead th {\n",
       "        text-align: right;\n",
       "    }\n",
       "</style>\n",
       "<table border=\"1\" class=\"dataframe\">\n",
       "  <thead>\n",
       "    <tr style=\"text-align: right;\">\n",
       "      <th></th>\n",
       "      <th>mae</th>\n",
       "      <th>mse</th>\n",
       "      <th>rmse</th>\n",
       "    </tr>\n",
       "  </thead>\n",
       "  <tbody>\n",
       "    <tr>\n",
       "      <th>0</th>\n",
       "      <td>8.988892</td>\n",
       "      <td>130.857814</td>\n",
       "      <td>11.439310</td>\n",
       "    </tr>\n",
       "    <tr>\n",
       "      <th>1</th>\n",
       "      <td>8.841536</td>\n",
       "      <td>127.333956</td>\n",
       "      <td>11.284235</td>\n",
       "    </tr>\n",
       "    <tr>\n",
       "      <th>2</th>\n",
       "      <td>8.831441</td>\n",
       "      <td>127.207911</td>\n",
       "      <td>11.278648</td>\n",
       "    </tr>\n",
       "    <tr>\n",
       "      <th>3</th>\n",
       "      <td>8.850235</td>\n",
       "      <td>125.837397</td>\n",
       "      <td>11.217727</td>\n",
       "    </tr>\n",
       "    <tr>\n",
       "      <th>4</th>\n",
       "      <td>8.916495</td>\n",
       "      <td>128.057652</td>\n",
       "      <td>11.316256</td>\n",
       "    </tr>\n",
       "    <tr>\n",
       "      <th>mean</th>\n",
       "      <td>8.885720</td>\n",
       "      <td>127.858946</td>\n",
       "      <td>11.307235</td>\n",
       "    </tr>\n",
       "    <tr>\n",
       "      <th>std</th>\n",
       "      <td>0.066613</td>\n",
       "      <td>1.858683</td>\n",
       "      <td>0.081980</td>\n",
       "    </tr>\n",
       "  </tbody>\n",
       "</table>\n",
       "</div>"
      ],
      "text/plain": [
       "           mae         mse       rmse\n",
       "0     8.988892  130.857814  11.439310\n",
       "1     8.841536  127.333956  11.284235\n",
       "2     8.831441  127.207911  11.278648\n",
       "3     8.850235  125.837397  11.217727\n",
       "4     8.916495  128.057652  11.316256\n",
       "mean  8.885720  127.858946  11.307235\n",
       "std   0.066613    1.858683   0.081980"
      ]
     },
     "execution_count": 28,
     "metadata": {},
     "output_type": "execute_result"
    }
   ],
   "source": [
    "res_fe_rel"
   ]
  },
  {
   "cell_type": "code",
   "execution_count": 29,
   "id": "99174d6e-32ee-42df-8033-607c9d6aaa81",
   "metadata": {},
   "outputs": [
    {
     "data": {
      "image/png": "[encoded data removed]",
      "text/plain": [
       "<Figure size 640x480 with 1 Axes>"
      ]
     },
     "metadata": {},
     "output_type": "display_data"
    }
   ],
   "source": [
    "rf_importance(models_fe_rel, models_fe_rel[0][-2].get_feature_names_out())"
   ]
  },
  {
   "cell_type": "markdown",
   "id": "77f92686-b8d7-4374-809b-880a6529d084",
   "metadata": {},
   "source": [
    "Como se puede apreciar, con las nuevas variables el RMSE baja de 11.31 a 11.23 y el MAE de 8.88 a 8.83 (en media sobre 5 folds). Además la importancia de las variables es bastante alta y con poca variabilidad entre folds, lo que indica que tienen poder predictivo.\n",
    "\n",
    "Por completitud se estima la performance utilizando target absoluto:"
   ]
  },
  {
   "cell_type": "code",
   "execution_count": 30,
   "id": "e104d6df-089a-4cee-87db-501b41fa2c74",
   "metadata": {},
   "outputs": [
    {
     "name": "stderr",
     "output_type": "stream",
     "text": [
      "100%|██████████| 5/5 [00:11<00:00,  2.28s/it]\n"
     ]
    },
    {
     "data": {
      "text/html": [
       "<div>\n",
       "<style scoped>\n",
       "    .dataframe tbody tr th:only-of-type {\n",
       "        vertical-align: middle;\n",
       "    }\n",
       "\n",
       "    .dataframe tbody tr th {\n",
       "        vertical-align: top;\n",
       "    }\n",
       "\n",
       "    .dataframe thead th {\n",
       "        text-align: right;\n",
       "    }\n",
       "</style>\n",
       "<table border=\"1\" class=\"dataframe\">\n",
       "  <thead>\n",
       "    <tr style=\"text-align: right;\">\n",
       "      <th></th>\n",
       "      <th>mae</th>\n",
       "      <th>mse</th>\n",
       "      <th>rmse</th>\n",
       "    </tr>\n",
       "  </thead>\n",
       "  <tbody>\n",
       "    <tr>\n",
       "      <th>0</th>\n",
       "      <td>8.984394</td>\n",
       "      <td>131.155370</td>\n",
       "      <td>11.452309</td>\n",
       "    </tr>\n",
       "    <tr>\n",
       "      <th>1</th>\n",
       "      <td>8.844483</td>\n",
       "      <td>127.506852</td>\n",
       "      <td>11.291893</td>\n",
       "    </tr>\n",
       "    <tr>\n",
       "      <th>2</th>\n",
       "      <td>8.873538</td>\n",
       "      <td>128.757734</td>\n",
       "      <td>11.347147</td>\n",
       "    </tr>\n",
       "    <tr>\n",
       "      <th>3</th>\n",
       "      <td>8.940591</td>\n",
       "      <td>129.384917</td>\n",
       "      <td>11.374749</td>\n",
       "    </tr>\n",
       "    <tr>\n",
       "      <th>4</th>\n",
       "      <td>8.945144</td>\n",
       "      <td>130.246757</td>\n",
       "      <td>11.412570</td>\n",
       "    </tr>\n",
       "    <tr>\n",
       "      <th>mean</th>\n",
       "      <td>8.917630</td>\n",
       "      <td>129.410326</td>\n",
       "      <td>11.375733</td>\n",
       "    </tr>\n",
       "    <tr>\n",
       "      <th>std</th>\n",
       "      <td>0.057088</td>\n",
       "      <td>1.395935</td>\n",
       "      <td>0.061376</td>\n",
       "    </tr>\n",
       "  </tbody>\n",
       "</table>\n",
       "</div>"
      ],
      "text/plain": [
       "           mae         mse       rmse\n",
       "0     8.984394  131.155370  11.452309\n",
       "1     8.844483  127.506852  11.291893\n",
       "2     8.873538  128.757734  11.347147\n",
       "3     8.940591  129.384917  11.374749\n",
       "4     8.945144  130.246757  11.412570\n",
       "mean  8.917630  129.410326  11.375733\n",
       "std   0.057088    1.395935   0.061376"
      ]
     },
     "execution_count": 30,
     "metadata": {},
     "output_type": "execute_result"
    }
   ],
   "source": [
    "res_fe_abs, models_fe_abs = cv_model(\n",
    "    lambda : make_pipeline(\n",
    "        make_column_transformer(\n",
    "            ('passthrough',X.columns[X.dtypes != 'object']),\n",
    "            (TargetEncoder(target_type='continuous', random_state=42), cat_cols+comb_cols),\n",
    "            sparse_threshold=0,\n",
    "            n_jobs=-1\n",
    "        ),\n",
    "        RandomForestRegressor(n_jobs=-1)\n",
    "    ),\n",
    "    X=X,\n",
    "    is_rel=False\n",
    ")\n",
    "\n",
    "res_fe_abs"
   ]
  },
  {
   "cell_type": "markdown",
   "id": "fc28bd20-cd1a-49f5-a6ed-56a98ca194d0",
   "metadata": {},
   "source": [
    "Como era de esperarse, la performance es peor. Se confirma entonces qeu es mejor utilizar el target relativo."
   ]
  },
  {
   "cell_type": "markdown",
   "id": "8bd2cab3-133a-46ae-afe7-dee6bc916af5",
   "metadata": {},
   "source": [
    "# Testeo de diferentes modelos"
   ]
  },
  {
   "cell_type": "markdown",
   "id": "6f74028f-8653-462d-976c-843951f63e1c",
   "metadata": {},
   "source": [
    "**TO DO PROBAR DIFERENTES MODELOS CON VALORES DEFAULT**\n",
    "\n",
    "* Ridge\n",
    "* LASSO\n",
    "* SVR\n",
    "* LightGBM (probablemente el que mejor ande, probar usando su propio encoding en vez del Tgt Enc)"
   ]
  },
  {
   "cell_type": "code",
   "execution_count": 31,
   "id": "94530f5a",
   "metadata": {},
   "outputs": [],
   "source": [
    "from sklearn.compose import make_column_transformer\n",
    "from sklearn.preprocessing import OneHotEncoder, StandardScaler\n",
    "from sklearn.pipeline import make_pipeline\n",
    "\n",
    "def make_preprocessed_pipeline(model, numeric_cols, cat_cols):\n",
    "    preprocessor = make_column_transformer(\n",
    "        ('passthrough', numeric_cols),\n",
    "        (OneHotEncoder(handle_unknown='ignore', sparse_output=False), cat_cols),\n",
    "        remainder='drop',\n",
    "        sparse_threshold=0,\n",
    "    )\n",
    "    \n",
    "    return make_pipeline(preprocessor, StandardScaler(), model)"
   ]
  },
  {
   "cell_type": "code",
   "execution_count": 32,
   "id": "ffd7b934",
   "metadata": {},
   "outputs": [
    {
     "name": "stderr",
     "output_type": "stream",
     "text": [
      "100%|██████████| 5/5 [00:01<00:00,  2.73it/s]\n"
     ]
    }
   ],
   "source": [
    "from sklearn.linear_model import Lasso, Ridge\n",
    "res_lasso_rel, models_lasso_rel = cv_model(\n",
    "    lambda: make_preprocessed_pipeline(Lasso(alpha=0.1), numeric_cols, cat_cols),\n",
    "    X=X,\n",
    "    is_rel=True\n",
    ")"
   ]
  },
  {
   "cell_type": "code",
   "execution_count": 33,
   "id": "1fd9ea57",
   "metadata": {},
   "outputs": [
    {
     "data": {
      "text/html": [
       "<div>\n",
       "<style scoped>\n",
       "    .dataframe tbody tr th:only-of-type {\n",
       "        vertical-align: middle;\n",
       "    }\n",
       "\n",
       "    .dataframe tbody tr th {\n",
       "        vertical-align: top;\n",
       "    }\n",
       "\n",
       "    .dataframe thead th {\n",
       "        text-align: right;\n",
       "    }\n",
       "</style>\n",
       "<table border=\"1\" class=\"dataframe\">\n",
       "  <thead>\n",
       "    <tr style=\"text-align: right;\">\n",
       "      <th></th>\n",
       "      <th>mae</th>\n",
       "      <th>mse</th>\n",
       "      <th>rmse</th>\n",
       "    </tr>\n",
       "  </thead>\n",
       "  <tbody>\n",
       "    <tr>\n",
       "      <th>0</th>\n",
       "      <td>9.209609</td>\n",
       "      <td>140.167239</td>\n",
       "      <td>11.839225</td>\n",
       "    </tr>\n",
       "    <tr>\n",
       "      <th>1</th>\n",
       "      <td>9.085107</td>\n",
       "      <td>136.077064</td>\n",
       "      <td>11.665207</td>\n",
       "    </tr>\n",
       "    <tr>\n",
       "      <th>2</th>\n",
       "      <td>9.125548</td>\n",
       "      <td>137.878952</td>\n",
       "      <td>11.742187</td>\n",
       "    </tr>\n",
       "    <tr>\n",
       "      <th>3</th>\n",
       "      <td>9.181672</td>\n",
       "      <td>137.886407</td>\n",
       "      <td>11.742504</td>\n",
       "    </tr>\n",
       "    <tr>\n",
       "      <th>4</th>\n",
       "      <td>9.198843</td>\n",
       "      <td>138.803393</td>\n",
       "      <td>11.781485</td>\n",
       "    </tr>\n",
       "    <tr>\n",
       "      <th>mean</th>\n",
       "      <td>9.160156</td>\n",
       "      <td>138.162611</td>\n",
       "      <td>11.754122</td>\n",
       "    </tr>\n",
       "    <tr>\n",
       "      <th>std</th>\n",
       "      <td>0.052998</td>\n",
       "      <td>1.494607</td>\n",
       "      <td>0.063589</td>\n",
       "    </tr>\n",
       "  </tbody>\n",
       "</table>\n",
       "</div>"
      ],
      "text/plain": [
       "           mae         mse       rmse\n",
       "0     9.209609  140.167239  11.839225\n",
       "1     9.085107  136.077064  11.665207\n",
       "2     9.125548  137.878952  11.742187\n",
       "3     9.181672  137.886407  11.742504\n",
       "4     9.198843  138.803393  11.781485\n",
       "mean  9.160156  138.162611  11.754122\n",
       "std   0.052998    1.494607   0.063589"
      ]
     },
     "execution_count": 33,
     "metadata": {},
     "output_type": "execute_result"
    }
   ],
   "source": [
    "res_lasso_rel"
   ]
  },
  {
   "cell_type": "code",
   "execution_count": 34,
   "id": "fdd8fbc8",
   "metadata": {},
   "outputs": [
    {
     "name": "stderr",
     "output_type": "stream",
     "text": [
      "100%|██████████| 5/5 [00:01<00:00,  2.96it/s]\n"
     ]
    }
   ],
   "source": [
    "res_ridge_rel, models_ridge_rel = cv_model(\n",
    "    lambda: make_preprocessed_pipeline(Ridge(alpha=1.0), numeric_cols, cat_cols),\n",
    "    X=X,\n",
    "    is_rel=True\n",
    ")"
   ]
  },
  {
   "cell_type": "code",
   "execution_count": 35,
   "id": "b743ef83",
   "metadata": {},
   "outputs": [
    {
     "data": {
      "text/html": [
       "<div>\n",
       "<style scoped>\n",
       "    .dataframe tbody tr th:only-of-type {\n",
       "        vertical-align: middle;\n",
       "    }\n",
       "\n",
       "    .dataframe tbody tr th {\n",
       "        vertical-align: top;\n",
       "    }\n",
       "\n",
       "    .dataframe thead th {\n",
       "        text-align: right;\n",
       "    }\n",
       "</style>\n",
       "<table border=\"1\" class=\"dataframe\">\n",
       "  <thead>\n",
       "    <tr style=\"text-align: right;\">\n",
       "      <th></th>\n",
       "      <th>mae</th>\n",
       "      <th>mse</th>\n",
       "      <th>rmse</th>\n",
       "    </tr>\n",
       "  </thead>\n",
       "  <tbody>\n",
       "    <tr>\n",
       "      <th>0</th>\n",
       "      <td>8.877918</td>\n",
       "      <td>126.952204</td>\n",
       "      <td>11.267307</td>\n",
       "    </tr>\n",
       "    <tr>\n",
       "      <th>1</th>\n",
       "      <td>8.752063</td>\n",
       "      <td>123.962696</td>\n",
       "      <td>11.133854</td>\n",
       "    </tr>\n",
       "    <tr>\n",
       "      <th>2</th>\n",
       "      <td>8.804853</td>\n",
       "      <td>125.246857</td>\n",
       "      <td>11.191374</td>\n",
       "    </tr>\n",
       "    <tr>\n",
       "      <th>3</th>\n",
       "      <td>8.796154</td>\n",
       "      <td>124.144580</td>\n",
       "      <td>11.142019</td>\n",
       "    </tr>\n",
       "    <tr>\n",
       "      <th>4</th>\n",
       "      <td>8.856516</td>\n",
       "      <td>125.605072</td>\n",
       "      <td>11.207367</td>\n",
       "    </tr>\n",
       "    <tr>\n",
       "      <th>mean</th>\n",
       "      <td>8.817501</td>\n",
       "      <td>125.182282</td>\n",
       "      <td>11.188384</td>\n",
       "    </tr>\n",
       "    <tr>\n",
       "      <th>std</th>\n",
       "      <td>0.050175</td>\n",
       "      <td>1.212411</td>\n",
       "      <td>0.054133</td>\n",
       "    </tr>\n",
       "  </tbody>\n",
       "</table>\n",
       "</div>"
      ],
      "text/plain": [
       "           mae         mse       rmse\n",
       "0     8.877918  126.952204  11.267307\n",
       "1     8.752063  123.962696  11.133854\n",
       "2     8.804853  125.246857  11.191374\n",
       "3     8.796154  124.144580  11.142019\n",
       "4     8.856516  125.605072  11.207367\n",
       "mean  8.817501  125.182282  11.188384\n",
       "std   0.050175    1.212411   0.054133"
      ]
     },
     "execution_count": 35,
     "metadata": {},
     "output_type": "execute_result"
    }
   ],
   "source": [
    "res_ridge_rel"
   ]
  },
  {
   "cell_type": "code",
   "execution_count": 36,
   "id": "e6d44270",
   "metadata": {},
   "outputs": [
    {
     "data": {
      "text/plain": [
       "'res_svr_rel, models_svr_rel = cv_model(\\n    lambda: make_preprocessed_pipeline(SVR(C=1.0, epsilon=0.1), numeric_cols, cat_cols),\\n    X=X,\\n    is_rel=True\\n)\\n\\nres_svr_rel'"
      ]
     },
     "execution_count": 36,
     "metadata": {},
     "output_type": "execute_result"
    }
   ],
   "source": [
    "from sklearn.svm import SVR\n",
    "# Comentado porque demora mucho tiempo (algunos minutos)\n",
    "\"\"\"res_svr_rel, models_svr_rel = cv_model(\n",
    "    lambda: make_preprocessed_pipeline(SVR(C=1.0, epsilon=0.1), numeric_cols, cat_cols),\n",
    "    X=X,\n",
    "    is_rel=True\n",
    ")\n",
    "\n",
    "res_svr_rel\"\"\""
   ]
  },
  {
   "cell_type": "code",
   "execution_count": 37,
   "id": "9060b889-6789-47e6-85c4-120b5d0ff6e1",
   "metadata": {},
   "outputs": [
    {
     "name": "stdout",
     "output_type": "stream",
     "text": [
      "<class 'pandas.core.frame.DataFrame'>\n",
      "RangeIndex: 40374 entries, 0 to 40373\n",
      "Data columns (total 11 columns):\n",
      " #   Column                       Non-Null Count  Dtype   \n",
      "---  ------                       --------------  -----   \n",
      " 0   Podcast_Name                 40374 non-null  category\n",
      " 1   Episode_Length_minutes       40374 non-null  float64 \n",
      " 2   Genre                        40374 non-null  category\n",
      " 3   Host_Popularity_percentage   40374 non-null  float64 \n",
      " 4   Publication_Day              40374 non-null  category\n",
      " 5   Publication_Time             40374 non-null  category\n",
      " 6   Guest_Popularity_percentage  40374 non-null  float64 \n",
      " 7   Number_of_Ads                40374 non-null  int64   \n",
      " 8   Episode_Number               40374 non-null  int64   \n",
      " 9   no_guest                     40374 non-null  bool    \n",
      " 10  sentiment_encoded            40374 non-null  int64   \n",
      "dtypes: bool(1), category(4), float64(3), int64(3)\n",
      "memory usage: 2.0 MB\n"
     ]
    }
   ],
   "source": [
    "# ejemplo de LightGBM\n",
    "from lightgbm import LGBMRegressor\n",
    "\n",
    "X_cats = X.copy()\n",
    "\n",
    "for col in cat_cols+comb_cols:\n",
    "    X_cats[col] = X_cats[col].astype(\"category\")\n",
    "\n",
    "X_cats.info()"
   ]
  },
  {
   "cell_type": "code",
   "execution_count": 38,
   "id": "7ff86601-e0e9-4adf-919f-d54d5e2779af",
   "metadata": {},
   "outputs": [
    {
     "name": "stderr",
     "output_type": "stream",
     "text": [
      "  0%|          | 0/5 [00:00<?, ?it/s]c:\\Users\\javier\\anaconda3\\envs\\myenv\\Lib\\site-packages\\joblib\\externals\\loky\\backend\\context.py:136: UserWarning: Could not find the number of physical cores for the following reason:\n",
      "[WinError 2] The system cannot find the file specified\n",
      "Returning the number of logical cores instead. You can silence this warning by setting LOKY_MAX_CPU_COUNT to the number of cores you want to use.\n",
      "  warnings.warn(\n",
      "  File \"c:\\Users\\javier\\anaconda3\\envs\\myenv\\Lib\\site-packages\\joblib\\externals\\loky\\backend\\context.py\", line 257, in _count_physical_cores\n",
      "    cpu_info = subprocess.run(\n",
      "               ^^^^^^^^^^^^^^^\n",
      "  File \"c:\\Users\\javier\\anaconda3\\envs\\myenv\\Lib\\subprocess.py\", line 548, in run\n",
      "    with Popen(*popenargs, **kwargs) as process:\n",
      "         ^^^^^^^^^^^^^^^^^^^^^^^^^^^\n",
      "  File \"c:\\Users\\javier\\anaconda3\\envs\\myenv\\Lib\\subprocess.py\", line 1026, in __init__\n",
      "    self._execute_child(args, executable, preexec_fn, close_fds,\n",
      "  File \"c:\\Users\\javier\\anaconda3\\envs\\myenv\\Lib\\subprocess.py\", line 1538, in _execute_child\n",
      "    hp, ht, pid, tid = _winapi.CreateProcess(executable, args,\n",
      "                       ^^^^^^^^^^^^^^^^^^^^^^^^^^^^^^^^^^^^^^^\n"
     ]
    },
    {
     "name": "stdout",
     "output_type": "stream",
     "text": [
      "[LightGBM] [Info] Auto-choosing col-wise multi-threading, the overhead of testing was 0.001205 seconds.\n",
      "You can set `force_col_wise=true` to remove the overhead.\n",
      "[LightGBM] [Info] Total Bins 6323\n",
      "[LightGBM] [Info] Number of data points in the train set: 32299, number of used features: 11\n",
      "[LightGBM] [Info] Start training from score 0.713479\n"
     ]
    },
    {
     "name": "stderr",
     "output_type": "stream",
     "text": [
      " 20%|██        | 1/5 [00:00<00:00,  4.42it/s]"
     ]
    },
    {
     "name": "stdout",
     "output_type": "stream",
     "text": [
      "[LightGBM] [Info] Auto-choosing col-wise multi-threading, the overhead of testing was 0.001367 seconds.\n",
      "You can set `force_col_wise=true` to remove the overhead.\n",
      "[LightGBM] [Info] Total Bins 6322\n",
      "[LightGBM] [Info] Number of data points in the train set: 32299, number of used features: 11\n",
      "[LightGBM] [Info] Start training from score 0.713263\n"
     ]
    },
    {
     "name": "stderr",
     "output_type": "stream",
     "text": [
      " 60%|██████    | 3/5 [00:00<00:00,  4.71it/s]"
     ]
    },
    {
     "name": "stdout",
     "output_type": "stream",
     "text": [
      "[LightGBM] [Info] Auto-choosing col-wise multi-threading, the overhead of testing was 0.001056 seconds.\n",
      "You can set `force_col_wise=true` to remove the overhead.\n",
      "[LightGBM] [Info] Total Bins 6321\n",
      "[LightGBM] [Info] Number of data points in the train set: 32299, number of used features: 11\n",
      "[LightGBM] [Info] Start training from score 0.712785\n"
     ]
    },
    {
     "name": "stderr",
     "output_type": "stream",
     "text": [
      " 80%|████████  | 4/5 [00:00<00:00,  4.72it/s]"
     ]
    },
    {
     "name": "stdout",
     "output_type": "stream",
     "text": [
      "[LightGBM] [Info] Auto-choosing col-wise multi-threading, the overhead of testing was 0.001345 seconds.\n",
      "You can set `force_col_wise=true` to remove the overhead.\n",
      "[LightGBM] [Info] Total Bins 6323\n",
      "[LightGBM] [Info] Number of data points in the train set: 32299, number of used features: 11\n",
      "[LightGBM] [Info] Start training from score 0.713100\n"
     ]
    },
    {
     "name": "stderr",
     "output_type": "stream",
     "text": [
      "100%|██████████| 5/5 [00:01<00:00,  4.61it/s]"
     ]
    },
    {
     "name": "stdout",
     "output_type": "stream",
     "text": [
      "[LightGBM] [Info] Auto-choosing col-wise multi-threading, the overhead of testing was 0.001609 seconds.\n",
      "You can set `force_col_wise=true` to remove the overhead.\n",
      "[LightGBM] [Info] Total Bins 6324\n",
      "[LightGBM] [Info] Number of data points in the train set: 32300, number of used features: 11\n",
      "[LightGBM] [Info] Start training from score 0.712298\n"
     ]
    },
    {
     "name": "stderr",
     "output_type": "stream",
     "text": [
      "100%|██████████| 5/5 [00:01<00:00,  4.63it/s]\n"
     ]
    }
   ],
   "source": [
    "res_lgb_rel, models_lgb_rel = cv_model(\n",
    "    lambda : LGBMRegressor(num_leaves=31, max_bin=2048, subsample=1., subsample_freq=8, colsample_bytree=0.9),\n",
    "    X=X_cats,\n",
    "    is_rel=True\n",
    ")"
   ]
  },
  {
   "cell_type": "code",
   "execution_count": 39,
   "id": "e27a1396-2009-4592-9a3c-a49d31b4b073",
   "metadata": {},
   "outputs": [
    {
     "data": {
      "text/html": [
       "<div>\n",
       "<style scoped>\n",
       "    .dataframe tbody tr th:only-of-type {\n",
       "        vertical-align: middle;\n",
       "    }\n",
       "\n",
       "    .dataframe tbody tr th {\n",
       "        vertical-align: top;\n",
       "    }\n",
       "\n",
       "    .dataframe thead th {\n",
       "        text-align: right;\n",
       "    }\n",
       "</style>\n",
       "<table border=\"1\" class=\"dataframe\">\n",
       "  <thead>\n",
       "    <tr style=\"text-align: right;\">\n",
       "      <th></th>\n",
       "      <th>mae</th>\n",
       "      <th>mse</th>\n",
       "      <th>rmse</th>\n",
       "    </tr>\n",
       "  </thead>\n",
       "  <tbody>\n",
       "    <tr>\n",
       "      <th>0</th>\n",
       "      <td>8.875132</td>\n",
       "      <td>126.298831</td>\n",
       "      <td>11.238275</td>\n",
       "    </tr>\n",
       "    <tr>\n",
       "      <th>1</th>\n",
       "      <td>8.701733</td>\n",
       "      <td>122.375952</td>\n",
       "      <td>11.062366</td>\n",
       "    </tr>\n",
       "    <tr>\n",
       "      <th>2</th>\n",
       "      <td>8.737425</td>\n",
       "      <td>123.231458</td>\n",
       "      <td>11.100967</td>\n",
       "    </tr>\n",
       "    <tr>\n",
       "      <th>3</th>\n",
       "      <td>8.729361</td>\n",
       "      <td>122.194616</td>\n",
       "      <td>11.054167</td>\n",
       "    </tr>\n",
       "    <tr>\n",
       "      <th>4</th>\n",
       "      <td>8.807115</td>\n",
       "      <td>124.648173</td>\n",
       "      <td>11.164595</td>\n",
       "    </tr>\n",
       "    <tr>\n",
       "      <th>mean</th>\n",
       "      <td>8.770153</td>\n",
       "      <td>123.749806</td>\n",
       "      <td>11.124074</td>\n",
       "    </tr>\n",
       "    <tr>\n",
       "      <th>std</th>\n",
       "      <td>0.070362</td>\n",
       "      <td>1.723323</td>\n",
       "      <td>0.077318</td>\n",
       "    </tr>\n",
       "  </tbody>\n",
       "</table>\n",
       "</div>"
      ],
      "text/plain": [
       "           mae         mse       rmse\n",
       "0     8.875132  126.298831  11.238275\n",
       "1     8.701733  122.375952  11.062366\n",
       "2     8.737425  123.231458  11.100967\n",
       "3     8.729361  122.194616  11.054167\n",
       "4     8.807115  124.648173  11.164595\n",
       "mean  8.770153  123.749806  11.124074\n",
       "std   0.070362    1.723323   0.077318"
      ]
     },
     "execution_count": 39,
     "metadata": {},
     "output_type": "execute_result"
    }
   ],
   "source": [
    "res_lgb_rel"
   ]
  },
  {
   "cell_type": "code",
   "execution_count": 40,
   "id": "fcefe001-f261-4824-b570-33fa5c671eff",
   "metadata": {},
   "outputs": [
    {
     "data": {
      "image/png": "[encoded data removed]",
      "text/plain": [
       "<Figure size 640x480 with 1 Axes>"
      ]
     },
     "metadata": {},
     "output_type": "display_data"
    }
   ],
   "source": [
    "rf_importance(models_lgb_rel, X_cats.columns)"
   ]
  },
  {
   "cell_type": "markdown",
   "id": "50b06bb6-8b26-4743-a38f-3782bca627f5",
   "metadata": {},
   "source": [
    "Parece que anda mal por insistencia en concentrarse en las mismas features, tal vez por eso anda mejor el RF? Ver los demás.\n"
   ]
  },
  {
   "cell_type": "markdown",
   "id": "2c577c64-6a07-49fa-a4b4-9dd074ff3c66",
   "metadata": {},
   "source": [
    "**TO DO HACER MINI FEATURE SELECTION Y HP TUNING SI ES POSIBLE CON OPTUNA Y W&B**"
   ]
  },
  {
   "cell_type": "code",
   "execution_count": null,
   "id": "c81001d7",
   "metadata": {},
   "outputs": [],
   "source": [
    "import optuna\n",
    "\n",
    "def objective_random_forest(trial):\n",
    "    #n_estimators = trial.suggest_int('n_estimators', 50, 200)\n",
    "    #max_depth = trial.suggest_int('max_depth', 2, 20)\n",
    "    #min_samples_split = trial.suggest_int('min_samples_split', 2, 10)\n",
    "\n",
    "    n_estimators = trial.suggest_int('n_estimators', 50, 100) \n",
    "    max_depth = trial.suggest_int('max_depth', 3, 6)\n",
    "    min_samples_split = trial.suggest_int('min_samples_split', 2, 10)\n",
    "\n",
    "    model = RandomForestRegressor(\n",
    "        n_estimators=n_estimators,\n",
    "        max_depth=max_depth,\n",
    "        min_samples_split=min_samples_split,\n",
    "        random_state=42,\n",
    "        n_jobs=-1\n",
    "    )\n",
    "\n",
    "    pipeline = make_preprocessed_pipeline(model, numeric_cols, cat_cols)\n",
    "\n",
    "    score, _ = cv_model(\n",
    "        lambda: pipeline,\n",
    "        X=X,\n",
    "        is_rel=True\n",
    "    )\n",
    "\n",
    "    return score['rmse'].mean()\n",
    "\n",
    "# Descomentar para ejecutar la optimización sin W&B\n",
    "#study = optuna.create_study(direction=\"minimize\") \n",
    "#study.optimize(objective_random_forest, n_trials=10)"
   ]
  },
  {
   "cell_type": "code",
   "execution_count": 42,
   "id": "3705fb28",
   "metadata": {},
   "outputs": [
    {
     "name": "stderr",
     "output_type": "stream",
     "text": [
      "wandb: Using wandb-core as the SDK backend.  Please refer to https://wandb.me/wandb-core for more information.\n",
      "wandb: Currently logged in as: javiergonzaloetcheto (javiergonzaloetcheto-universidad-de-buenos-aires) to https://api.wandb.ai. Use `wandb login --relogin` to force relogin\n"
     ]
    },
    {
     "data": {
      "text/plain": [
       "True"
      ]
     },
     "execution_count": 42,
     "metadata": {},
     "output_type": "execute_result"
    }
   ],
   "source": [
    "import wandb\n",
    "wandb.login()"
   ]
  },
  {
   "cell_type": "code",
   "execution_count": 43,
   "id": "b53db521",
   "metadata": {},
   "outputs": [
    {
     "name": "stderr",
     "output_type": "stream",
     "text": [
      "C:\\Users\\javier\\AppData\\Local\\Temp\\ipykernel_15436\\1237076300.py:7: ExperimentalWarning: WeightsAndBiasesCallback is experimental (supported from v2.9.0). The interface can change in the future.\n",
      "  wandbc = WeightsAndBiasesCallback(wandb_kwargs=wandb_kwargs, as_multirun=True)\n",
      "[I 2025-04-22 22:40:24,445] A new study created in memory with name: no-name-0c1ebcbd-2902-4cc1-9820-ca13599a1cda\n",
      "100%|██████████| 5/5 [00:06<00:00,  1.21s/it]\n",
      "[I 2025-04-22 22:40:30,491] Trial 0 finished with value: 9.509155536314319 and parameters: {'n_estimators': 96, 'max_depth': 6, 'min_samples_split': 4}. Best is trial 0 with value: 9.509155536314319.\n"
     ]
    },
    {
     "data": {
      "text/html": [
       "Tracking run with wandb version 0.19.9"
      ],
      "text/plain": [
       "<IPython.core.display.HTML object>"
      ]
     },
     "metadata": {},
     "output_type": "display_data"
    },
    {
     "data": {
      "text/html": [
       "Run data is saved locally in <code>c:\\Users\\javier\\OneDrive\\Documents\\Repo\\AprMaqI\\wandb\\run-20250422_224030-rp8eyvpk</code>"
      ],
      "text/plain": [
       "<IPython.core.display.HTML object>"
      ]
     },
     "metadata": {},
     "output_type": "display_data"
    },
    {
     "data": {
      "text/html": [
       "Syncing run <strong><a href='https://wandb.ai/javiergonzaloetcheto-universidad-de-buenos-aires/optuna-rf/runs/rp8eyvpk' target=\"_blank\">random-forest-optimization</a></strong> to <a href='https://wandb.ai/javiergonzaloetcheto-universidad-de-buenos-aires/optuna-rf' target=\"_blank\">Weights & Biases</a> (<a href='https://wandb.me/developer-guide' target=\"_blank\">docs</a>)<br>"
      ],
      "text/plain": [
       "<IPython.core.display.HTML object>"
      ]
     },
     "metadata": {},
     "output_type": "display_data"
    },
    {
     "data": {
      "text/html": [
       " View project at <a href='https://wandb.ai/javiergonzaloetcheto-universidad-de-buenos-aires/optuna-rf' target=\"_blank\">https://wandb.ai/javiergonzaloetcheto-universidad-de-buenos-aires/optuna-rf</a>"
      ],
      "text/plain": [
       "<IPython.core.display.HTML object>"
      ]
     },
     "metadata": {},
     "output_type": "display_data"
    },
    {
     "data": {
      "text/html": [
       " View run at <a href='https://wandb.ai/javiergonzaloetcheto-universidad-de-buenos-aires/optuna-rf/runs/rp8eyvpk' target=\"_blank\">https://wandb.ai/javiergonzaloetcheto-universidad-de-buenos-aires/optuna-rf/runs/rp8eyvpk</a>"
      ],
      "text/plain": [
       "<IPython.core.display.HTML object>"
      ]
     },
     "metadata": {},
     "output_type": "display_data"
    },
    {
     "data": {
      "text/html": [],
      "text/plain": [
       "<IPython.core.display.HTML object>"
      ]
     },
     "metadata": {},
     "output_type": "display_data"
    },
    {
     "data": {
      "text/html": [
       "<br>    <style><br>        .wandb-row {<br>            display: flex;<br>            flex-direction: row;<br>            flex-wrap: wrap;<br>            justify-content: flex-start;<br>            width: 100%;<br>        }<br>        .wandb-col {<br>            display: flex;<br>            flex-direction: column;<br>            flex-basis: 100%;<br>            flex: 1;<br>            padding: 10px;<br>        }<br>    </style><br><div class=\"wandb-row\"><div class=\"wandb-col\"><h3>Run history:</h3><br/><table class=\"wandb\"><tr><td>max_depth</td><td>▁</td></tr><tr><td>min_samples_split</td><td>▁</td></tr><tr><td>n_estimators</td><td>▁</td></tr><tr><td>trial_number</td><td>▁</td></tr><tr><td>value</td><td>▁</td></tr></table><br/></div><div class=\"wandb-col\"><h3>Run summary:</h3><br/><table class=\"wandb\"><tr><td>max_depth</td><td>6</td></tr><tr><td>min_samples_split</td><td>4</td></tr><tr><td>n_estimators</td><td>96</td></tr><tr><td>trial_number</td><td>0</td></tr><tr><td>value</td><td>9.50916</td></tr></table><br/></div></div>"
      ],
      "text/plain": [
       "<IPython.core.display.HTML object>"
      ]
     },
     "metadata": {},
     "output_type": "display_data"
    },
    {
     "data": {
      "text/html": [
       " View run <strong style=\"color:#cdcd00\">trial/0/random-forest-optimization</strong> at: <a href='https://wandb.ai/javiergonzaloetcheto-universidad-de-buenos-aires/optuna-rf/runs/rp8eyvpk' target=\"_blank\">https://wandb.ai/javiergonzaloetcheto-universidad-de-buenos-aires/optuna-rf/runs/rp8eyvpk</a><br> View project at: <a href='https://wandb.ai/javiergonzaloetcheto-universidad-de-buenos-aires/optuna-rf' target=\"_blank\">https://wandb.ai/javiergonzaloetcheto-universidad-de-buenos-aires/optuna-rf</a><br>Synced 5 W&B file(s), 0 media file(s), 0 artifact file(s) and 0 other file(s)"
      ],
      "text/plain": [
       "<IPython.core.display.HTML object>"
      ]
     },
     "metadata": {},
     "output_type": "display_data"
    },
    {
     "data": {
      "text/html": [
       "Find logs at: <code>.\\wandb\\run-20250422_224030-rp8eyvpk\\logs</code>"
      ],
      "text/plain": [
       "<IPython.core.display.HTML object>"
      ]
     },
     "metadata": {},
     "output_type": "display_data"
    },
    {
     "name": "stderr",
     "output_type": "stream",
     "text": [
      "100%|██████████| 5/5 [00:04<00:00,  1.15it/s]\n",
      "[I 2025-04-22 22:40:38,107] Trial 1 finished with value: 9.625712893506787 and parameters: {'n_estimators': 97, 'max_depth': 3, 'min_samples_split': 7}. Best is trial 0 with value: 9.509155536314319.\n"
     ]
    },
    {
     "data": {
      "text/html": [
       "Tracking run with wandb version 0.19.9"
      ],
      "text/plain": [
       "<IPython.core.display.HTML object>"
      ]
     },
     "metadata": {},
     "output_type": "display_data"
    },
    {
     "data": {
      "text/html": [
       "Run data is saved locally in <code>c:\\Users\\javier\\OneDrive\\Documents\\Repo\\AprMaqI\\wandb\\run-20250422_224038-7khs74ff</code>"
      ],
      "text/plain": [
       "<IPython.core.display.HTML object>"
      ]
     },
     "metadata": {},
     "output_type": "display_data"
    },
    {
     "data": {
      "text/html": [
       "Syncing run <strong><a href='https://wandb.ai/javiergonzaloetcheto-universidad-de-buenos-aires/optuna-rf/runs/7khs74ff' target=\"_blank\">random-forest-optimization</a></strong> to <a href='https://wandb.ai/javiergonzaloetcheto-universidad-de-buenos-aires/optuna-rf' target=\"_blank\">Weights & Biases</a> (<a href='https://wandb.me/developer-guide' target=\"_blank\">docs</a>)<br>"
      ],
      "text/plain": [
       "<IPython.core.display.HTML object>"
      ]
     },
     "metadata": {},
     "output_type": "display_data"
    },
    {
     "data": {
      "text/html": [
       " View project at <a href='https://wandb.ai/javiergonzaloetcheto-universidad-de-buenos-aires/optuna-rf' target=\"_blank\">https://wandb.ai/javiergonzaloetcheto-universidad-de-buenos-aires/optuna-rf</a>"
      ],
      "text/plain": [
       "<IPython.core.display.HTML object>"
      ]
     },
     "metadata": {},
     "output_type": "display_data"
    },
    {
     "data": {
      "text/html": [
       " View run at <a href='https://wandb.ai/javiergonzaloetcheto-universidad-de-buenos-aires/optuna-rf/runs/7khs74ff' target=\"_blank\">https://wandb.ai/javiergonzaloetcheto-universidad-de-buenos-aires/optuna-rf/runs/7khs74ff</a>"
      ],
      "text/plain": [
       "<IPython.core.display.HTML object>"
      ]
     },
     "metadata": {},
     "output_type": "display_data"
    },
    {
     "data": {
      "text/html": [],
      "text/plain": [
       "<IPython.core.display.HTML object>"
      ]
     },
     "metadata": {},
     "output_type": "display_data"
    },
    {
     "data": {
      "text/html": [
       "<br>    <style><br>        .wandb-row {<br>            display: flex;<br>            flex-direction: row;<br>            flex-wrap: wrap;<br>            justify-content: flex-start;<br>            width: 100%;<br>        }<br>        .wandb-col {<br>            display: flex;<br>            flex-direction: column;<br>            flex-basis: 100%;<br>            flex: 1;<br>            padding: 10px;<br>        }<br>    </style><br><div class=\"wandb-row\"><div class=\"wandb-col\"><h3>Run history:</h3><br/><table class=\"wandb\"><tr><td>max_depth</td><td>▁</td></tr><tr><td>min_samples_split</td><td>▁</td></tr><tr><td>n_estimators</td><td>▁</td></tr><tr><td>trial_number</td><td>▁</td></tr><tr><td>value</td><td>▁</td></tr></table><br/></div><div class=\"wandb-col\"><h3>Run summary:</h3><br/><table class=\"wandb\"><tr><td>max_depth</td><td>3</td></tr><tr><td>min_samples_split</td><td>7</td></tr><tr><td>n_estimators</td><td>97</td></tr><tr><td>trial_number</td><td>1</td></tr><tr><td>value</td><td>9.62571</td></tr></table><br/></div></div>"
      ],
      "text/plain": [
       "<IPython.core.display.HTML object>"
      ]
     },
     "metadata": {},
     "output_type": "display_data"
    },
    {
     "data": {
      "text/html": [
       " View run <strong style=\"color:#cdcd00\">trial/1/random-forest-optimization</strong> at: <a href='https://wandb.ai/javiergonzaloetcheto-universidad-de-buenos-aires/optuna-rf/runs/7khs74ff' target=\"_blank\">https://wandb.ai/javiergonzaloetcheto-universidad-de-buenos-aires/optuna-rf/runs/7khs74ff</a><br> View project at: <a href='https://wandb.ai/javiergonzaloetcheto-universidad-de-buenos-aires/optuna-rf' target=\"_blank\">https://wandb.ai/javiergonzaloetcheto-universidad-de-buenos-aires/optuna-rf</a><br>Synced 5 W&B file(s), 0 media file(s), 0 artifact file(s) and 0 other file(s)"
      ],
      "text/plain": [
       "<IPython.core.display.HTML object>"
      ]
     },
     "metadata": {},
     "output_type": "display_data"
    },
    {
     "data": {
      "text/html": [
       "Find logs at: <code>.\\wandb\\run-20250422_224038-7khs74ff\\logs</code>"
      ],
      "text/plain": [
       "<IPython.core.display.HTML object>"
      ]
     },
     "metadata": {},
     "output_type": "display_data"
    },
    {
     "name": "stderr",
     "output_type": "stream",
     "text": [
      "100%|██████████| 5/5 [00:03<00:00,  1.29it/s]\n",
      "[I 2025-04-22 22:40:44,814] Trial 2 finished with value: 9.521607707480394 and parameters: {'n_estimators': 58, 'max_depth': 5, 'min_samples_split': 9}. Best is trial 0 with value: 9.509155536314319.\n"
     ]
    },
    {
     "data": {
      "text/html": [
       "Tracking run with wandb version 0.19.9"
      ],
      "text/plain": [
       "<IPython.core.display.HTML object>"
      ]
     },
     "metadata": {},
     "output_type": "display_data"
    },
    {
     "data": {
      "text/html": [
       "Run data is saved locally in <code>c:\\Users\\javier\\OneDrive\\Documents\\Repo\\AprMaqI\\wandb\\run-20250422_224044-358uzn9p</code>"
      ],
      "text/plain": [
       "<IPython.core.display.HTML object>"
      ]
     },
     "metadata": {},
     "output_type": "display_data"
    },
    {
     "data": {
      "text/html": [
       "Syncing run <strong><a href='https://wandb.ai/javiergonzaloetcheto-universidad-de-buenos-aires/optuna-rf/runs/358uzn9p' target=\"_blank\">random-forest-optimization</a></strong> to <a href='https://wandb.ai/javiergonzaloetcheto-universidad-de-buenos-aires/optuna-rf' target=\"_blank\">Weights & Biases</a> (<a href='https://wandb.me/developer-guide' target=\"_blank\">docs</a>)<br>"
      ],
      "text/plain": [
       "<IPython.core.display.HTML object>"
      ]
     },
     "metadata": {},
     "output_type": "display_data"
    },
    {
     "data": {
      "text/html": [
       " View project at <a href='https://wandb.ai/javiergonzaloetcheto-universidad-de-buenos-aires/optuna-rf' target=\"_blank\">https://wandb.ai/javiergonzaloetcheto-universidad-de-buenos-aires/optuna-rf</a>"
      ],
      "text/plain": [
       "<IPython.core.display.HTML object>"
      ]
     },
     "metadata": {},
     "output_type": "display_data"
    },
    {
     "data": {
      "text/html": [
       " View run at <a href='https://wandb.ai/javiergonzaloetcheto-universidad-de-buenos-aires/optuna-rf/runs/358uzn9p' target=\"_blank\">https://wandb.ai/javiergonzaloetcheto-universidad-de-buenos-aires/optuna-rf/runs/358uzn9p</a>"
      ],
      "text/plain": [
       "<IPython.core.display.HTML object>"
      ]
     },
     "metadata": {},
     "output_type": "display_data"
    },
    {
     "data": {
      "text/html": [],
      "text/plain": [
       "<IPython.core.display.HTML object>"
      ]
     },
     "metadata": {},
     "output_type": "display_data"
    },
    {
     "data": {
      "text/html": [
       "<br>    <style><br>        .wandb-row {<br>            display: flex;<br>            flex-direction: row;<br>            flex-wrap: wrap;<br>            justify-content: flex-start;<br>            width: 100%;<br>        }<br>        .wandb-col {<br>            display: flex;<br>            flex-direction: column;<br>            flex-basis: 100%;<br>            flex: 1;<br>            padding: 10px;<br>        }<br>    </style><br><div class=\"wandb-row\"><div class=\"wandb-col\"><h3>Run history:</h3><br/><table class=\"wandb\"><tr><td>max_depth</td><td>▁</td></tr><tr><td>min_samples_split</td><td>▁</td></tr><tr><td>n_estimators</td><td>▁</td></tr><tr><td>trial_number</td><td>▁</td></tr><tr><td>value</td><td>▁</td></tr></table><br/></div><div class=\"wandb-col\"><h3>Run summary:</h3><br/><table class=\"wandb\"><tr><td>max_depth</td><td>5</td></tr><tr><td>min_samples_split</td><td>9</td></tr><tr><td>n_estimators</td><td>58</td></tr><tr><td>trial_number</td><td>2</td></tr><tr><td>value</td><td>9.52161</td></tr></table><br/></div></div>"
      ],
      "text/plain": [
       "<IPython.core.display.HTML object>"
      ]
     },
     "metadata": {},
     "output_type": "display_data"
    },
    {
     "data": {
      "text/html": [
       " View run <strong style=\"color:#cdcd00\">trial/2/random-forest-optimization</strong> at: <a href='https://wandb.ai/javiergonzaloetcheto-universidad-de-buenos-aires/optuna-rf/runs/358uzn9p' target=\"_blank\">https://wandb.ai/javiergonzaloetcheto-universidad-de-buenos-aires/optuna-rf/runs/358uzn9p</a><br> View project at: <a href='https://wandb.ai/javiergonzaloetcheto-universidad-de-buenos-aires/optuna-rf' target=\"_blank\">https://wandb.ai/javiergonzaloetcheto-universidad-de-buenos-aires/optuna-rf</a><br>Synced 5 W&B file(s), 0 media file(s), 0 artifact file(s) and 0 other file(s)"
      ],
      "text/plain": [
       "<IPython.core.display.HTML object>"
      ]
     },
     "metadata": {},
     "output_type": "display_data"
    },
    {
     "data": {
      "text/html": [
       "Find logs at: <code>.\\wandb\\run-20250422_224044-358uzn9p\\logs</code>"
      ],
      "text/plain": [
       "<IPython.core.display.HTML object>"
      ]
     },
     "metadata": {},
     "output_type": "display_data"
    },
    {
     "name": "stderr",
     "output_type": "stream",
     "text": [
      "100%|██████████| 5/5 [00:08<00:00,  1.63s/it]\n",
      "[I 2025-04-22 22:40:56,321] Trial 3 finished with value: 9.509294566042117 and parameters: {'n_estimators': 93, 'max_depth': 6, 'min_samples_split': 3}. Best is trial 0 with value: 9.509155536314319.\n"
     ]
    },
    {
     "data": {
      "text/html": [
       "Tracking run with wandb version 0.19.9"
      ],
      "text/plain": [
       "<IPython.core.display.HTML object>"
      ]
     },
     "metadata": {},
     "output_type": "display_data"
    },
    {
     "data": {
      "text/html": [
       "Run data is saved locally in <code>c:\\Users\\javier\\OneDrive\\Documents\\Repo\\AprMaqI\\wandb\\run-20250422_224056-nr1mfs5b</code>"
      ],
      "text/plain": [
       "<IPython.core.display.HTML object>"
      ]
     },
     "metadata": {},
     "output_type": "display_data"
    },
    {
     "data": {
      "text/html": [
       "Syncing run <strong><a href='https://wandb.ai/javiergonzaloetcheto-universidad-de-buenos-aires/optuna-rf/runs/nr1mfs5b' target=\"_blank\">random-forest-optimization</a></strong> to <a href='https://wandb.ai/javiergonzaloetcheto-universidad-de-buenos-aires/optuna-rf' target=\"_blank\">Weights & Biases</a> (<a href='https://wandb.me/developer-guide' target=\"_blank\">docs</a>)<br>"
      ],
      "text/plain": [
       "<IPython.core.display.HTML object>"
      ]
     },
     "metadata": {},
     "output_type": "display_data"
    },
    {
     "data": {
      "text/html": [
       " View project at <a href='https://wandb.ai/javiergonzaloetcheto-universidad-de-buenos-aires/optuna-rf' target=\"_blank\">https://wandb.ai/javiergonzaloetcheto-universidad-de-buenos-aires/optuna-rf</a>"
      ],
      "text/plain": [
       "<IPython.core.display.HTML object>"
      ]
     },
     "metadata": {},
     "output_type": "display_data"
    },
    {
     "data": {
      "text/html": [
       " View run at <a href='https://wandb.ai/javiergonzaloetcheto-universidad-de-buenos-aires/optuna-rf/runs/nr1mfs5b' target=\"_blank\">https://wandb.ai/javiergonzaloetcheto-universidad-de-buenos-aires/optuna-rf/runs/nr1mfs5b</a>"
      ],
      "text/plain": [
       "<IPython.core.display.HTML object>"
      ]
     },
     "metadata": {},
     "output_type": "display_data"
    },
    {
     "data": {
      "text/html": [],
      "text/plain": [
       "<IPython.core.display.HTML object>"
      ]
     },
     "metadata": {},
     "output_type": "display_data"
    },
    {
     "data": {
      "text/html": [
       "<br>    <style><br>        .wandb-row {<br>            display: flex;<br>            flex-direction: row;<br>            flex-wrap: wrap;<br>            justify-content: flex-start;<br>            width: 100%;<br>        }<br>        .wandb-col {<br>            display: flex;<br>            flex-direction: column;<br>            flex-basis: 100%;<br>            flex: 1;<br>            padding: 10px;<br>        }<br>    </style><br><div class=\"wandb-row\"><div class=\"wandb-col\"><h3>Run history:</h3><br/><table class=\"wandb\"><tr><td>max_depth</td><td>▁</td></tr><tr><td>min_samples_split</td><td>▁</td></tr><tr><td>n_estimators</td><td>▁</td></tr><tr><td>trial_number</td><td>▁</td></tr><tr><td>value</td><td>▁</td></tr></table><br/></div><div class=\"wandb-col\"><h3>Run summary:</h3><br/><table class=\"wandb\"><tr><td>max_depth</td><td>6</td></tr><tr><td>min_samples_split</td><td>3</td></tr><tr><td>n_estimators</td><td>93</td></tr><tr><td>trial_number</td><td>3</td></tr><tr><td>value</td><td>9.50929</td></tr></table><br/></div></div>"
      ],
      "text/plain": [
       "<IPython.core.display.HTML object>"
      ]
     },
     "metadata": {},
     "output_type": "display_data"
    },
    {
     "data": {
      "text/html": [
       " View run <strong style=\"color:#cdcd00\">trial/3/random-forest-optimization</strong> at: <a href='https://wandb.ai/javiergonzaloetcheto-universidad-de-buenos-aires/optuna-rf/runs/nr1mfs5b' target=\"_blank\">https://wandb.ai/javiergonzaloetcheto-universidad-de-buenos-aires/optuna-rf/runs/nr1mfs5b</a><br> View project at: <a href='https://wandb.ai/javiergonzaloetcheto-universidad-de-buenos-aires/optuna-rf' target=\"_blank\">https://wandb.ai/javiergonzaloetcheto-universidad-de-buenos-aires/optuna-rf</a><br>Synced 5 W&B file(s), 0 media file(s), 0 artifact file(s) and 0 other file(s)"
      ],
      "text/plain": [
       "<IPython.core.display.HTML object>"
      ]
     },
     "metadata": {},
     "output_type": "display_data"
    },
    {
     "data": {
      "text/html": [
       "Find logs at: <code>.\\wandb\\run-20250422_224056-nr1mfs5b\\logs</code>"
      ],
      "text/plain": [
       "<IPython.core.display.HTML object>"
      ]
     },
     "metadata": {},
     "output_type": "display_data"
    },
    {
     "name": "stderr",
     "output_type": "stream",
     "text": [
      "100%|██████████| 5/5 [00:06<00:00,  1.24s/it]\n",
      "[I 2025-04-22 22:41:05,771] Trial 4 finished with value: 9.626361882167485 and parameters: {'n_estimators': 77, 'max_depth': 3, 'min_samples_split': 10}. Best is trial 0 with value: 9.509155536314319.\n"
     ]
    },
    {
     "data": {
      "text/html": [
       "Tracking run with wandb version 0.19.9"
      ],
      "text/plain": [
       "<IPython.core.display.HTML object>"
      ]
     },
     "metadata": {},
     "output_type": "display_data"
    },
    {
     "data": {
      "text/html": [
       "Run data is saved locally in <code>c:\\Users\\javier\\OneDrive\\Documents\\Repo\\AprMaqI\\wandb\\run-20250422_224105-jmcy1gac</code>"
      ],
      "text/plain": [
       "<IPython.core.display.HTML object>"
      ]
     },
     "metadata": {},
     "output_type": "display_data"
    },
    {
     "data": {
      "text/html": [
       "Syncing run <strong><a href='https://wandb.ai/javiergonzaloetcheto-universidad-de-buenos-aires/optuna-rf/runs/jmcy1gac' target=\"_blank\">random-forest-optimization</a></strong> to <a href='https://wandb.ai/javiergonzaloetcheto-universidad-de-buenos-aires/optuna-rf' target=\"_blank\">Weights & Biases</a> (<a href='https://wandb.me/developer-guide' target=\"_blank\">docs</a>)<br>"
      ],
      "text/plain": [
       "<IPython.core.display.HTML object>"
      ]
     },
     "metadata": {},
     "output_type": "display_data"
    },
    {
     "data": {
      "text/html": [
       " View project at <a href='https://wandb.ai/javiergonzaloetcheto-universidad-de-buenos-aires/optuna-rf' target=\"_blank\">https://wandb.ai/javiergonzaloetcheto-universidad-de-buenos-aires/optuna-rf</a>"
      ],
      "text/plain": [
       "<IPython.core.display.HTML object>"
      ]
     },
     "metadata": {},
     "output_type": "display_data"
    },
    {
     "data": {
      "text/html": [
       " View run at <a href='https://wandb.ai/javiergonzaloetcheto-universidad-de-buenos-aires/optuna-rf/runs/jmcy1gac' target=\"_blank\">https://wandb.ai/javiergonzaloetcheto-universidad-de-buenos-aires/optuna-rf/runs/jmcy1gac</a>"
      ],
      "text/plain": [
       "<IPython.core.display.HTML object>"
      ]
     },
     "metadata": {},
     "output_type": "display_data"
    },
    {
     "data": {
      "text/html": [],
      "text/plain": [
       "<IPython.core.display.HTML object>"
      ]
     },
     "metadata": {},
     "output_type": "display_data"
    },
    {
     "data": {
      "text/html": [
       "<br>    <style><br>        .wandb-row {<br>            display: flex;<br>            flex-direction: row;<br>            flex-wrap: wrap;<br>            justify-content: flex-start;<br>            width: 100%;<br>        }<br>        .wandb-col {<br>            display: flex;<br>            flex-direction: column;<br>            flex-basis: 100%;<br>            flex: 1;<br>            padding: 10px;<br>        }<br>    </style><br><div class=\"wandb-row\"><div class=\"wandb-col\"><h3>Run history:</h3><br/><table class=\"wandb\"><tr><td>max_depth</td><td>▁</td></tr><tr><td>min_samples_split</td><td>▁</td></tr><tr><td>n_estimators</td><td>▁</td></tr><tr><td>trial_number</td><td>▁</td></tr><tr><td>value</td><td>▁</td></tr></table><br/></div><div class=\"wandb-col\"><h3>Run summary:</h3><br/><table class=\"wandb\"><tr><td>max_depth</td><td>3</td></tr><tr><td>min_samples_split</td><td>10</td></tr><tr><td>n_estimators</td><td>77</td></tr><tr><td>trial_number</td><td>4</td></tr><tr><td>value</td><td>9.62636</td></tr></table><br/></div></div>"
      ],
      "text/plain": [
       "<IPython.core.display.HTML object>"
      ]
     },
     "metadata": {},
     "output_type": "display_data"
    },
    {
     "data": {
      "text/html": [
       " View run <strong style=\"color:#cdcd00\">trial/4/random-forest-optimization</strong> at: <a href='https://wandb.ai/javiergonzaloetcheto-universidad-de-buenos-aires/optuna-rf/runs/jmcy1gac' target=\"_blank\">https://wandb.ai/javiergonzaloetcheto-universidad-de-buenos-aires/optuna-rf/runs/jmcy1gac</a><br> View project at: <a href='https://wandb.ai/javiergonzaloetcheto-universidad-de-buenos-aires/optuna-rf' target=\"_blank\">https://wandb.ai/javiergonzaloetcheto-universidad-de-buenos-aires/optuna-rf</a><br>Synced 5 W&B file(s), 0 media file(s), 0 artifact file(s) and 0 other file(s)"
      ],
      "text/plain": [
       "<IPython.core.display.HTML object>"
      ]
     },
     "metadata": {},
     "output_type": "display_data"
    },
    {
     "data": {
      "text/html": [
       "Find logs at: <code>.\\wandb\\run-20250422_224105-jmcy1gac\\logs</code>"
      ],
      "text/plain": [
       "<IPython.core.display.HTML object>"
      ]
     },
     "metadata": {},
     "output_type": "display_data"
    },
    {
     "name": "stderr",
     "output_type": "stream",
     "text": [
      "100%|██████████| 5/5 [00:07<00:00,  1.52s/it]\n",
      "[I 2025-04-22 22:41:16,497] Trial 5 finished with value: 9.559169331913491 and parameters: {'n_estimators': 86, 'max_depth': 4, 'min_samples_split': 7}. Best is trial 0 with value: 9.509155536314319.\n"
     ]
    },
    {
     "data": {
      "text/html": [
       "Tracking run with wandb version 0.19.9"
      ],
      "text/plain": [
       "<IPython.core.display.HTML object>"
      ]
     },
     "metadata": {},
     "output_type": "display_data"
    },
    {
     "data": {
      "text/html": [
       "Run data is saved locally in <code>c:\\Users\\javier\\OneDrive\\Documents\\Repo\\AprMaqI\\wandb\\run-20250422_224116-dyjfxsgp</code>"
      ],
      "text/plain": [
       "<IPython.core.display.HTML object>"
      ]
     },
     "metadata": {},
     "output_type": "display_data"
    },
    {
     "data": {
      "text/html": [
       "Syncing run <strong><a href='https://wandb.ai/javiergonzaloetcheto-universidad-de-buenos-aires/optuna-rf/runs/dyjfxsgp' target=\"_blank\">random-forest-optimization</a></strong> to <a href='https://wandb.ai/javiergonzaloetcheto-universidad-de-buenos-aires/optuna-rf' target=\"_blank\">Weights & Biases</a> (<a href='https://wandb.me/developer-guide' target=\"_blank\">docs</a>)<br>"
      ],
      "text/plain": [
       "<IPython.core.display.HTML object>"
      ]
     },
     "metadata": {},
     "output_type": "display_data"
    },
    {
     "data": {
      "text/html": [
       " View project at <a href='https://wandb.ai/javiergonzaloetcheto-universidad-de-buenos-aires/optuna-rf' target=\"_blank\">https://wandb.ai/javiergonzaloetcheto-universidad-de-buenos-aires/optuna-rf</a>"
      ],
      "text/plain": [
       "<IPython.core.display.HTML object>"
      ]
     },
     "metadata": {},
     "output_type": "display_data"
    },
    {
     "data": {
      "text/html": [
       " View run at <a href='https://wandb.ai/javiergonzaloetcheto-universidad-de-buenos-aires/optuna-rf/runs/dyjfxsgp' target=\"_blank\">https://wandb.ai/javiergonzaloetcheto-universidad-de-buenos-aires/optuna-rf/runs/dyjfxsgp</a>"
      ],
      "text/plain": [
       "<IPython.core.display.HTML object>"
      ]
     },
     "metadata": {},
     "output_type": "display_data"
    },
    {
     "data": {
      "text/html": [],
      "text/plain": [
       "<IPython.core.display.HTML object>"
      ]
     },
     "metadata": {},
     "output_type": "display_data"
    },
    {
     "data": {
      "text/html": [
       "<br>    <style><br>        .wandb-row {<br>            display: flex;<br>            flex-direction: row;<br>            flex-wrap: wrap;<br>            justify-content: flex-start;<br>            width: 100%;<br>        }<br>        .wandb-col {<br>            display: flex;<br>            flex-direction: column;<br>            flex-basis: 100%;<br>            flex: 1;<br>            padding: 10px;<br>        }<br>    </style><br><div class=\"wandb-row\"><div class=\"wandb-col\"><h3>Run history:</h3><br/><table class=\"wandb\"><tr><td>max_depth</td><td>▁</td></tr><tr><td>min_samples_split</td><td>▁</td></tr><tr><td>n_estimators</td><td>▁</td></tr><tr><td>trial_number</td><td>▁</td></tr><tr><td>value</td><td>▁</td></tr></table><br/></div><div class=\"wandb-col\"><h3>Run summary:</h3><br/><table class=\"wandb\"><tr><td>max_depth</td><td>4</td></tr><tr><td>min_samples_split</td><td>7</td></tr><tr><td>n_estimators</td><td>86</td></tr><tr><td>trial_number</td><td>5</td></tr><tr><td>value</td><td>9.55917</td></tr></table><br/></div></div>"
      ],
      "text/plain": [
       "<IPython.core.display.HTML object>"
      ]
     },
     "metadata": {},
     "output_type": "display_data"
    },
    {
     "data": {
      "text/html": [
       " View run <strong style=\"color:#cdcd00\">trial/5/random-forest-optimization</strong> at: <a href='https://wandb.ai/javiergonzaloetcheto-universidad-de-buenos-aires/optuna-rf/runs/dyjfxsgp' target=\"_blank\">https://wandb.ai/javiergonzaloetcheto-universidad-de-buenos-aires/optuna-rf/runs/dyjfxsgp</a><br> View project at: <a href='https://wandb.ai/javiergonzaloetcheto-universidad-de-buenos-aires/optuna-rf' target=\"_blank\">https://wandb.ai/javiergonzaloetcheto-universidad-de-buenos-aires/optuna-rf</a><br>Synced 5 W&B file(s), 0 media file(s), 0 artifact file(s) and 0 other file(s)"
      ],
      "text/plain": [
       "<IPython.core.display.HTML object>"
      ]
     },
     "metadata": {},
     "output_type": "display_data"
    },
    {
     "data": {
      "text/html": [
       "Find logs at: <code>.\\wandb\\run-20250422_224116-dyjfxsgp\\logs</code>"
      ],
      "text/plain": [
       "<IPython.core.display.HTML object>"
      ]
     },
     "metadata": {},
     "output_type": "display_data"
    },
    {
     "name": "stderr",
     "output_type": "stream",
     "text": [
      "100%|██████████| 5/5 [00:05<00:00,  1.13s/it]\n",
      "[I 2025-04-22 22:41:25,599] Trial 6 finished with value: 9.626666967811433 and parameters: {'n_estimators': 51, 'max_depth': 3, 'min_samples_split': 9}. Best is trial 0 with value: 9.509155536314319.\n"
     ]
    },
    {
     "data": {
      "text/html": [
       "Tracking run with wandb version 0.19.9"
      ],
      "text/plain": [
       "<IPython.core.display.HTML object>"
      ]
     },
     "metadata": {},
     "output_type": "display_data"
    },
    {
     "data": {
      "text/html": [
       "Run data is saved locally in <code>c:\\Users\\javier\\OneDrive\\Documents\\Repo\\AprMaqI\\wandb\\run-20250422_224125-yx5oxdvu</code>"
      ],
      "text/plain": [
       "<IPython.core.display.HTML object>"
      ]
     },
     "metadata": {},
     "output_type": "display_data"
    },
    {
     "data": {
      "text/html": [
       "Syncing run <strong><a href='https://wandb.ai/javiergonzaloetcheto-universidad-de-buenos-aires/optuna-rf/runs/yx5oxdvu' target=\"_blank\">random-forest-optimization</a></strong> to <a href='https://wandb.ai/javiergonzaloetcheto-universidad-de-buenos-aires/optuna-rf' target=\"_blank\">Weights & Biases</a> (<a href='https://wandb.me/developer-guide' target=\"_blank\">docs</a>)<br>"
      ],
      "text/plain": [
       "<IPython.core.display.HTML object>"
      ]
     },
     "metadata": {},
     "output_type": "display_data"
    },
    {
     "data": {
      "text/html": [
       " View project at <a href='https://wandb.ai/javiergonzaloetcheto-universidad-de-buenos-aires/optuna-rf' target=\"_blank\">https://wandb.ai/javiergonzaloetcheto-universidad-de-buenos-aires/optuna-rf</a>"
      ],
      "text/plain": [
       "<IPython.core.display.HTML object>"
      ]
     },
     "metadata": {},
     "output_type": "display_data"
    },
    {
     "data": {
      "text/html": [
       " View run at <a href='https://wandb.ai/javiergonzaloetcheto-universidad-de-buenos-aires/optuna-rf/runs/yx5oxdvu' target=\"_blank\">https://wandb.ai/javiergonzaloetcheto-universidad-de-buenos-aires/optuna-rf/runs/yx5oxdvu</a>"
      ],
      "text/plain": [
       "<IPython.core.display.HTML object>"
      ]
     },
     "metadata": {},
     "output_type": "display_data"
    },
    {
     "data": {
      "text/html": [],
      "text/plain": [
       "<IPython.core.display.HTML object>"
      ]
     },
     "metadata": {},
     "output_type": "display_data"
    },
    {
     "data": {
      "text/html": [
       "<br>    <style><br>        .wandb-row {<br>            display: flex;<br>            flex-direction: row;<br>            flex-wrap: wrap;<br>            justify-content: flex-start;<br>            width: 100%;<br>        }<br>        .wandb-col {<br>            display: flex;<br>            flex-direction: column;<br>            flex-basis: 100%;<br>            flex: 1;<br>            padding: 10px;<br>        }<br>    </style><br><div class=\"wandb-row\"><div class=\"wandb-col\"><h3>Run history:</h3><br/><table class=\"wandb\"><tr><td>max_depth</td><td>▁</td></tr><tr><td>min_samples_split</td><td>▁</td></tr><tr><td>n_estimators</td><td>▁</td></tr><tr><td>trial_number</td><td>▁</td></tr><tr><td>value</td><td>▁</td></tr></table><br/></div><div class=\"wandb-col\"><h3>Run summary:</h3><br/><table class=\"wandb\"><tr><td>max_depth</td><td>3</td></tr><tr><td>min_samples_split</td><td>9</td></tr><tr><td>n_estimators</td><td>51</td></tr><tr><td>trial_number</td><td>6</td></tr><tr><td>value</td><td>9.62667</td></tr></table><br/></div></div>"
      ],
      "text/plain": [
       "<IPython.core.display.HTML object>"
      ]
     },
     "metadata": {},
     "output_type": "display_data"
    },
    {
     "data": {
      "text/html": [
       " View run <strong style=\"color:#cdcd00\">trial/6/random-forest-optimization</strong> at: <a href='https://wandb.ai/javiergonzaloetcheto-universidad-de-buenos-aires/optuna-rf/runs/yx5oxdvu' target=\"_blank\">https://wandb.ai/javiergonzaloetcheto-universidad-de-buenos-aires/optuna-rf/runs/yx5oxdvu</a><br> View project at: <a href='https://wandb.ai/javiergonzaloetcheto-universidad-de-buenos-aires/optuna-rf' target=\"_blank\">https://wandb.ai/javiergonzaloetcheto-universidad-de-buenos-aires/optuna-rf</a><br>Synced 5 W&B file(s), 0 media file(s), 0 artifact file(s) and 0 other file(s)"
      ],
      "text/plain": [
       "<IPython.core.display.HTML object>"
      ]
     },
     "metadata": {},
     "output_type": "display_data"
    },
    {
     "data": {
      "text/html": [
       "Find logs at: <code>.\\wandb\\run-20250422_224125-yx5oxdvu\\logs</code>"
      ],
      "text/plain": [
       "<IPython.core.display.HTML object>"
      ]
     },
     "metadata": {},
     "output_type": "display_data"
    },
    {
     "name": "stderr",
     "output_type": "stream",
     "text": [
      "100%|██████████| 5/5 [00:05<00:00,  1.00s/it]\n",
      "[I 2025-04-22 22:41:33,614] Trial 7 finished with value: 9.625717387516998 and parameters: {'n_estimators': 98, 'max_depth': 3, 'min_samples_split': 9}. Best is trial 0 with value: 9.509155536314319.\n"
     ]
    },
    {
     "data": {
      "text/html": [
       "Tracking run with wandb version 0.19.9"
      ],
      "text/plain": [
       "<IPython.core.display.HTML object>"
      ]
     },
     "metadata": {},
     "output_type": "display_data"
    },
    {
     "data": {
      "text/html": [
       "Run data is saved locally in <code>c:\\Users\\javier\\OneDrive\\Documents\\Repo\\AprMaqI\\wandb\\run-20250422_224133-p8qg8trz</code>"
      ],
      "text/plain": [
       "<IPython.core.display.HTML object>"
      ]
     },
     "metadata": {},
     "output_type": "display_data"
    },
    {
     "data": {
      "text/html": [
       "Syncing run <strong><a href='https://wandb.ai/javiergonzaloetcheto-universidad-de-buenos-aires/optuna-rf/runs/p8qg8trz' target=\"_blank\">random-forest-optimization</a></strong> to <a href='https://wandb.ai/javiergonzaloetcheto-universidad-de-buenos-aires/optuna-rf' target=\"_blank\">Weights & Biases</a> (<a href='https://wandb.me/developer-guide' target=\"_blank\">docs</a>)<br>"
      ],
      "text/plain": [
       "<IPython.core.display.HTML object>"
      ]
     },
     "metadata": {},
     "output_type": "display_data"
    },
    {
     "data": {
      "text/html": [
       " View project at <a href='https://wandb.ai/javiergonzaloetcheto-universidad-de-buenos-aires/optuna-rf' target=\"_blank\">https://wandb.ai/javiergonzaloetcheto-universidad-de-buenos-aires/optuna-rf</a>"
      ],
      "text/plain": [
       "<IPython.core.display.HTML object>"
      ]
     },
     "metadata": {},
     "output_type": "display_data"
    },
    {
     "data": {
      "text/html": [
       " View run at <a href='https://wandb.ai/javiergonzaloetcheto-universidad-de-buenos-aires/optuna-rf/runs/p8qg8trz' target=\"_blank\">https://wandb.ai/javiergonzaloetcheto-universidad-de-buenos-aires/optuna-rf/runs/p8qg8trz</a>"
      ],
      "text/plain": [
       "<IPython.core.display.HTML object>"
      ]
     },
     "metadata": {},
     "output_type": "display_data"
    },
    {
     "data": {
      "text/html": [],
      "text/plain": [
       "<IPython.core.display.HTML object>"
      ]
     },
     "metadata": {},
     "output_type": "display_data"
    },
    {
     "data": {
      "text/html": [
       "<br>    <style><br>        .wandb-row {<br>            display: flex;<br>            flex-direction: row;<br>            flex-wrap: wrap;<br>            justify-content: flex-start;<br>            width: 100%;<br>        }<br>        .wandb-col {<br>            display: flex;<br>            flex-direction: column;<br>            flex-basis: 100%;<br>            flex: 1;<br>            padding: 10px;<br>        }<br>    </style><br><div class=\"wandb-row\"><div class=\"wandb-col\"><h3>Run history:</h3><br/><table class=\"wandb\"><tr><td>max_depth</td><td>▁</td></tr><tr><td>min_samples_split</td><td>▁</td></tr><tr><td>n_estimators</td><td>▁</td></tr><tr><td>trial_number</td><td>▁</td></tr><tr><td>value</td><td>▁</td></tr></table><br/></div><div class=\"wandb-col\"><h3>Run summary:</h3><br/><table class=\"wandb\"><tr><td>max_depth</td><td>3</td></tr><tr><td>min_samples_split</td><td>9</td></tr><tr><td>n_estimators</td><td>98</td></tr><tr><td>trial_number</td><td>7</td></tr><tr><td>value</td><td>9.62572</td></tr></table><br/></div></div>"
      ],
      "text/plain": [
       "<IPython.core.display.HTML object>"
      ]
     },
     "metadata": {},
     "output_type": "display_data"
    },
    {
     "data": {
      "text/html": [
       " View run <strong style=\"color:#cdcd00\">trial/7/random-forest-optimization</strong> at: <a href='https://wandb.ai/javiergonzaloetcheto-universidad-de-buenos-aires/optuna-rf/runs/p8qg8trz' target=\"_blank\">https://wandb.ai/javiergonzaloetcheto-universidad-de-buenos-aires/optuna-rf/runs/p8qg8trz</a><br> View project at: <a href='https://wandb.ai/javiergonzaloetcheto-universidad-de-buenos-aires/optuna-rf' target=\"_blank\">https://wandb.ai/javiergonzaloetcheto-universidad-de-buenos-aires/optuna-rf</a><br>Synced 5 W&B file(s), 0 media file(s), 0 artifact file(s) and 0 other file(s)"
      ],
      "text/plain": [
       "<IPython.core.display.HTML object>"
      ]
     },
     "metadata": {},
     "output_type": "display_data"
    },
    {
     "data": {
      "text/html": [
       "Find logs at: <code>.\\wandb\\run-20250422_224133-p8qg8trz\\logs</code>"
      ],
      "text/plain": [
       "<IPython.core.display.HTML object>"
      ]
     },
     "metadata": {},
     "output_type": "display_data"
    },
    {
     "name": "stderr",
     "output_type": "stream",
     "text": [
      "100%|██████████| 5/5 [00:04<00:00,  1.12it/s]\n",
      "[I 2025-04-22 22:41:40,948] Trial 8 finished with value: 9.510128660938607 and parameters: {'n_estimators': 56, 'max_depth': 6, 'min_samples_split': 9}. Best is trial 0 with value: 9.509155536314319.\n"
     ]
    },
    {
     "data": {
      "text/html": [
       "Tracking run with wandb version 0.19.9"
      ],
      "text/plain": [
       "<IPython.core.display.HTML object>"
      ]
     },
     "metadata": {},
     "output_type": "display_data"
    },
    {
     "data": {
      "text/html": [
       "Run data is saved locally in <code>c:\\Users\\javier\\OneDrive\\Documents\\Repo\\AprMaqI\\wandb\\run-20250422_224140-iywa06fp</code>"
      ],
      "text/plain": [
       "<IPython.core.display.HTML object>"
      ]
     },
     "metadata": {},
     "output_type": "display_data"
    },
    {
     "data": {
      "text/html": [
       "Syncing run <strong><a href='https://wandb.ai/javiergonzaloetcheto-universidad-de-buenos-aires/optuna-rf/runs/iywa06fp' target=\"_blank\">random-forest-optimization</a></strong> to <a href='https://wandb.ai/javiergonzaloetcheto-universidad-de-buenos-aires/optuna-rf' target=\"_blank\">Weights & Biases</a> (<a href='https://wandb.me/developer-guide' target=\"_blank\">docs</a>)<br>"
      ],
      "text/plain": [
       "<IPython.core.display.HTML object>"
      ]
     },
     "metadata": {},
     "output_type": "display_data"
    },
    {
     "data": {
      "text/html": [
       " View project at <a href='https://wandb.ai/javiergonzaloetcheto-universidad-de-buenos-aires/optuna-rf' target=\"_blank\">https://wandb.ai/javiergonzaloetcheto-universidad-de-buenos-aires/optuna-rf</a>"
      ],
      "text/plain": [
       "<IPython.core.display.HTML object>"
      ]
     },
     "metadata": {},
     "output_type": "display_data"
    },
    {
     "data": {
      "text/html": [
       " View run at <a href='https://wandb.ai/javiergonzaloetcheto-universidad-de-buenos-aires/optuna-rf/runs/iywa06fp' target=\"_blank\">https://wandb.ai/javiergonzaloetcheto-universidad-de-buenos-aires/optuna-rf/runs/iywa06fp</a>"
      ],
      "text/plain": [
       "<IPython.core.display.HTML object>"
      ]
     },
     "metadata": {},
     "output_type": "display_data"
    },
    {
     "data": {
      "text/html": [],
      "text/plain": [
       "<IPython.core.display.HTML object>"
      ]
     },
     "metadata": {},
     "output_type": "display_data"
    },
    {
     "data": {
      "text/html": [
       "<br>    <style><br>        .wandb-row {<br>            display: flex;<br>            flex-direction: row;<br>            flex-wrap: wrap;<br>            justify-content: flex-start;<br>            width: 100%;<br>        }<br>        .wandb-col {<br>            display: flex;<br>            flex-direction: column;<br>            flex-basis: 100%;<br>            flex: 1;<br>            padding: 10px;<br>        }<br>    </style><br><div class=\"wandb-row\"><div class=\"wandb-col\"><h3>Run history:</h3><br/><table class=\"wandb\"><tr><td>max_depth</td><td>▁</td></tr><tr><td>min_samples_split</td><td>▁</td></tr><tr><td>n_estimators</td><td>▁</td></tr><tr><td>trial_number</td><td>▁</td></tr><tr><td>value</td><td>▁</td></tr></table><br/></div><div class=\"wandb-col\"><h3>Run summary:</h3><br/><table class=\"wandb\"><tr><td>max_depth</td><td>6</td></tr><tr><td>min_samples_split</td><td>9</td></tr><tr><td>n_estimators</td><td>56</td></tr><tr><td>trial_number</td><td>8</td></tr><tr><td>value</td><td>9.51013</td></tr></table><br/></div></div>"
      ],
      "text/plain": [
       "<IPython.core.display.HTML object>"
      ]
     },
     "metadata": {},
     "output_type": "display_data"
    },
    {
     "data": {
      "text/html": [
       " View run <strong style=\"color:#cdcd00\">trial/8/random-forest-optimization</strong> at: <a href='https://wandb.ai/javiergonzaloetcheto-universidad-de-buenos-aires/optuna-rf/runs/iywa06fp' target=\"_blank\">https://wandb.ai/javiergonzaloetcheto-universidad-de-buenos-aires/optuna-rf/runs/iywa06fp</a><br> View project at: <a href='https://wandb.ai/javiergonzaloetcheto-universidad-de-buenos-aires/optuna-rf' target=\"_blank\">https://wandb.ai/javiergonzaloetcheto-universidad-de-buenos-aires/optuna-rf</a><br>Synced 5 W&B file(s), 0 media file(s), 0 artifact file(s) and 0 other file(s)"
      ],
      "text/plain": [
       "<IPython.core.display.HTML object>"
      ]
     },
     "metadata": {},
     "output_type": "display_data"
    },
    {
     "data": {
      "text/html": [
       "Find logs at: <code>.\\wandb\\run-20250422_224140-iywa06fp\\logs</code>"
      ],
      "text/plain": [
       "<IPython.core.display.HTML object>"
      ]
     },
     "metadata": {},
     "output_type": "display_data"
    },
    {
     "name": "stderr",
     "output_type": "stream",
     "text": [
      "100%|██████████| 5/5 [00:03<00:00,  1.52it/s]\n",
      "[I 2025-04-22 22:41:47,049] Trial 9 finished with value: 9.626719434988487 and parameters: {'n_estimators': 60, 'max_depth': 3, 'min_samples_split': 4}. Best is trial 0 with value: 9.509155536314319.\n"
     ]
    },
    {
     "data": {
      "text/html": [
       "Tracking run with wandb version 0.19.9"
      ],
      "text/plain": [
       "<IPython.core.display.HTML object>"
      ]
     },
     "metadata": {},
     "output_type": "display_data"
    },
    {
     "data": {
      "text/html": [
       "Run data is saved locally in <code>c:\\Users\\javier\\OneDrive\\Documents\\Repo\\AprMaqI\\wandb\\run-20250422_224147-mu2xi61j</code>"
      ],
      "text/plain": [
       "<IPython.core.display.HTML object>"
      ]
     },
     "metadata": {},
     "output_type": "display_data"
    },
    {
     "data": {
      "text/html": [
       "Syncing run <strong><a href='https://wandb.ai/javiergonzaloetcheto-universidad-de-buenos-aires/optuna-rf/runs/mu2xi61j' target=\"_blank\">random-forest-optimization</a></strong> to <a href='https://wandb.ai/javiergonzaloetcheto-universidad-de-buenos-aires/optuna-rf' target=\"_blank\">Weights & Biases</a> (<a href='https://wandb.me/developer-guide' target=\"_blank\">docs</a>)<br>"
      ],
      "text/plain": [
       "<IPython.core.display.HTML object>"
      ]
     },
     "metadata": {},
     "output_type": "display_data"
    },
    {
     "data": {
      "text/html": [
       " View project at <a href='https://wandb.ai/javiergonzaloetcheto-universidad-de-buenos-aires/optuna-rf' target=\"_blank\">https://wandb.ai/javiergonzaloetcheto-universidad-de-buenos-aires/optuna-rf</a>"
      ],
      "text/plain": [
       "<IPython.core.display.HTML object>"
      ]
     },
     "metadata": {},
     "output_type": "display_data"
    },
    {
     "data": {
      "text/html": [
       " View run at <a href='https://wandb.ai/javiergonzaloetcheto-universidad-de-buenos-aires/optuna-rf/runs/mu2xi61j' target=\"_blank\">https://wandb.ai/javiergonzaloetcheto-universidad-de-buenos-aires/optuna-rf/runs/mu2xi61j</a>"
      ],
      "text/plain": [
       "<IPython.core.display.HTML object>"
      ]
     },
     "metadata": {},
     "output_type": "display_data"
    },
    {
     "data": {
      "text/html": [],
      "text/plain": [
       "<IPython.core.display.HTML object>"
      ]
     },
     "metadata": {},
     "output_type": "display_data"
    },
    {
     "data": {
      "text/html": [
       "<br>    <style><br>        .wandb-row {<br>            display: flex;<br>            flex-direction: row;<br>            flex-wrap: wrap;<br>            justify-content: flex-start;<br>            width: 100%;<br>        }<br>        .wandb-col {<br>            display: flex;<br>            flex-direction: column;<br>            flex-basis: 100%;<br>            flex: 1;<br>            padding: 10px;<br>        }<br>    </style><br><div class=\"wandb-row\"><div class=\"wandb-col\"><h3>Run history:</h3><br/><table class=\"wandb\"><tr><td>max_depth</td><td>▁</td></tr><tr><td>min_samples_split</td><td>▁</td></tr><tr><td>n_estimators</td><td>▁</td></tr><tr><td>trial_number</td><td>▁</td></tr><tr><td>value</td><td>▁</td></tr></table><br/></div><div class=\"wandb-col\"><h3>Run summary:</h3><br/><table class=\"wandb\"><tr><td>max_depth</td><td>3</td></tr><tr><td>min_samples_split</td><td>4</td></tr><tr><td>n_estimators</td><td>60</td></tr><tr><td>trial_number</td><td>9</td></tr><tr><td>value</td><td>9.62672</td></tr></table><br/></div></div>"
      ],
      "text/plain": [
       "<IPython.core.display.HTML object>"
      ]
     },
     "metadata": {},
     "output_type": "display_data"
    },
    {
     "data": {
      "text/html": [
       " View run <strong style=\"color:#cdcd00\">trial/9/random-forest-optimization</strong> at: <a href='https://wandb.ai/javiergonzaloetcheto-universidad-de-buenos-aires/optuna-rf/runs/mu2xi61j' target=\"_blank\">https://wandb.ai/javiergonzaloetcheto-universidad-de-buenos-aires/optuna-rf/runs/mu2xi61j</a><br> View project at: <a href='https://wandb.ai/javiergonzaloetcheto-universidad-de-buenos-aires/optuna-rf' target=\"_blank\">https://wandb.ai/javiergonzaloetcheto-universidad-de-buenos-aires/optuna-rf</a><br>Synced 5 W&B file(s), 0 media file(s), 0 artifact file(s) and 0 other file(s)"
      ],
      "text/plain": [
       "<IPython.core.display.HTML object>"
      ]
     },
     "metadata": {},
     "output_type": "display_data"
    },
    {
     "data": {
      "text/html": [
       "Find logs at: <code>.\\wandb\\run-20250422_224147-mu2xi61j\\logs</code>"
      ],
      "text/plain": [
       "<IPython.core.display.HTML object>"
      ]
     },
     "metadata": {},
     "output_type": "display_data"
    }
   ],
   "source": [
    "from optuna.integration.wandb import WeightsAndBiasesCallback\n",
    "\n",
    "wandb_kwargs = {\n",
    "    \"project\": \"optuna-rf\", \n",
    "    \"name\": \"random-forest-optimization\" \n",
    "}\n",
    "wandbc = WeightsAndBiasesCallback(wandb_kwargs=wandb_kwargs, as_multirun=True)\n",
    "\n",
    "study = optuna.create_study(direction=\"minimize\")\n",
    "study.optimize(objective_random_forest, n_trials=10, callbacks=[wandbc])\n"
   ]
  },
  {
   "cell_type": "code",
   "execution_count": 44,
   "id": "85bc078a",
   "metadata": {},
   "outputs": [
    {
     "name": "stdout",
     "output_type": "stream",
     "text": [
      "Mejores parámetros: {'n_estimators': 96, 'max_depth': 6, 'min_samples_split': 4}\n",
      "Mejor valor de la métrica (RMSE): 9.509155536314319\n"
     ]
    }
   ],
   "source": [
    "print(\"Mejores parámetros:\", study.best_params)\n",
    "print(\"Mejor valor de la métrica (RMSE):\", study.best_value)"
   ]
  },
  {
   "cell_type": "code",
   "execution_count": 45,
   "id": "51d66ae3",
   "metadata": {},
   "outputs": [],
   "source": [
    "from sklearn.ensemble import GradientBoostingRegressor\n",
    "\n",
    "def objective_gradient_boosting(trial):\n",
    "    learning_rate = trial.suggest_float('learning_rate', 0.01, 0.3)\n",
    "    n_estimators = trial.suggest_int('n_estimators', 50, 100)\n",
    "    max_depth = trial.suggest_int('max_depth', 3, 6)\n",
    "\n",
    "    model = GradientBoostingRegressor(\n",
    "        learning_rate=learning_rate,\n",
    "        n_estimators=n_estimators,\n",
    "        max_depth=max_depth,\n",
    "        random_state=42\n",
    "    )\n",
    "\n",
    "    pipeline = make_preprocessed_pipeline(model, numeric_cols, cat_cols)\n",
    "    score, _ = cv_model(lambda: pipeline, X=X, is_rel=True)\n",
    "\n",
    "    return score['rmse'].mean()\n"
   ]
  },
  {
   "cell_type": "code",
   "execution_count": 46,
   "id": "21b82802",
   "metadata": {},
   "outputs": [
    {
     "name": "stderr",
     "output_type": "stream",
     "text": [
      "C:\\Users\\javier\\AppData\\Local\\Temp\\ipykernel_15436\\636689585.py:6: ExperimentalWarning: WeightsAndBiasesCallback is experimental (supported from v2.9.0). The interface can change in the future.\n",
      "  wandbc = WeightsAndBiasesCallback(wandb_kwargs=wandb_kwargs, as_multirun=True)\n",
      "[I 2025-04-22 22:41:50,039] A new study created in memory with name: no-name-21c6e26f-245b-40c1-9e56-db18b99e850c\n",
      "100%|██████████| 5/5 [00:25<00:00,  5.02s/it]\n",
      "[I 2025-04-22 22:42:15,168] Trial 0 finished with value: 9.520680969710947 and parameters: {'learning_rate': 0.28167646854932815, 'n_estimators': 56, 'max_depth': 4}. Best is trial 0 with value: 9.520680969710947.\n"
     ]
    },
    {
     "data": {
      "text/html": [
       "Tracking run with wandb version 0.19.9"
      ],
      "text/plain": [
       "<IPython.core.display.HTML object>"
      ]
     },
     "metadata": {},
     "output_type": "display_data"
    },
    {
     "data": {
      "text/html": [
       "Run data is saved locally in <code>c:\\Users\\javier\\OneDrive\\Documents\\Repo\\AprMaqI\\wandb\\run-20250422_224215-f1w9zf2x</code>"
      ],
      "text/plain": [
       "<IPython.core.display.HTML object>"
      ]
     },
     "metadata": {},
     "output_type": "display_data"
    },
    {
     "data": {
      "text/html": [
       "Syncing run <strong><a href='https://wandb.ai/javiergonzaloetcheto-universidad-de-buenos-aires/optuna-gbr/runs/f1w9zf2x' target=\"_blank\">gradient-boosting-optimization</a></strong> to <a href='https://wandb.ai/javiergonzaloetcheto-universidad-de-buenos-aires/optuna-gbr' target=\"_blank\">Weights & Biases</a> (<a href='https://wandb.me/developer-guide' target=\"_blank\">docs</a>)<br>"
      ],
      "text/plain": [
       "<IPython.core.display.HTML object>"
      ]
     },
     "metadata": {},
     "output_type": "display_data"
    },
    {
     "data": {
      "text/html": [
       " View project at <a href='https://wandb.ai/javiergonzaloetcheto-universidad-de-buenos-aires/optuna-gbr' target=\"_blank\">https://wandb.ai/javiergonzaloetcheto-universidad-de-buenos-aires/optuna-gbr</a>"
      ],
      "text/plain": [
       "<IPython.core.display.HTML object>"
      ]
     },
     "metadata": {},
     "output_type": "display_data"
    },
    {
     "data": {
      "text/html": [
       " View run at <a href='https://wandb.ai/javiergonzaloetcheto-universidad-de-buenos-aires/optuna-gbr/runs/f1w9zf2x' target=\"_blank\">https://wandb.ai/javiergonzaloetcheto-universidad-de-buenos-aires/optuna-gbr/runs/f1w9zf2x</a>"
      ],
      "text/plain": [
       "<IPython.core.display.HTML object>"
      ]
     },
     "metadata": {},
     "output_type": "display_data"
    },
    {
     "data": {
      "text/html": [],
      "text/plain": [
       "<IPython.core.display.HTML object>"
      ]
     },
     "metadata": {},
     "output_type": "display_data"
    },
    {
     "data": {
      "text/html": [
       "<br>    <style><br>        .wandb-row {<br>            display: flex;<br>            flex-direction: row;<br>            flex-wrap: wrap;<br>            justify-content: flex-start;<br>            width: 100%;<br>        }<br>        .wandb-col {<br>            display: flex;<br>            flex-direction: column;<br>            flex-basis: 100%;<br>            flex: 1;<br>            padding: 10px;<br>        }<br>    </style><br><div class=\"wandb-row\"><div class=\"wandb-col\"><h3>Run history:</h3><br/><table class=\"wandb\"><tr><td>learning_rate</td><td>▁</td></tr><tr><td>max_depth</td><td>▁</td></tr><tr><td>n_estimators</td><td>▁</td></tr><tr><td>trial_number</td><td>▁</td></tr><tr><td>value</td><td>▁</td></tr></table><br/></div><div class=\"wandb-col\"><h3>Run summary:</h3><br/><table class=\"wandb\"><tr><td>learning_rate</td><td>0.28168</td></tr><tr><td>max_depth</td><td>4</td></tr><tr><td>n_estimators</td><td>56</td></tr><tr><td>trial_number</td><td>0</td></tr><tr><td>value</td><td>9.52068</td></tr></table><br/></div></div>"
      ],
      "text/plain": [
       "<IPython.core.display.HTML object>"
      ]
     },
     "metadata": {},
     "output_type": "display_data"
    },
    {
     "data": {
      "text/html": [
       " View run <strong style=\"color:#cdcd00\">trial/0/gradient-boosting-optimization</strong> at: <a href='https://wandb.ai/javiergonzaloetcheto-universidad-de-buenos-aires/optuna-gbr/runs/f1w9zf2x' target=\"_blank\">https://wandb.ai/javiergonzaloetcheto-universidad-de-buenos-aires/optuna-gbr/runs/f1w9zf2x</a><br> View project at: <a href='https://wandb.ai/javiergonzaloetcheto-universidad-de-buenos-aires/optuna-gbr' target=\"_blank\">https://wandb.ai/javiergonzaloetcheto-universidad-de-buenos-aires/optuna-gbr</a><br>Synced 5 W&B file(s), 0 media file(s), 0 artifact file(s) and 0 other file(s)"
      ],
      "text/plain": [
       "<IPython.core.display.HTML object>"
      ]
     },
     "metadata": {},
     "output_type": "display_data"
    },
    {
     "data": {
      "text/html": [
       "Find logs at: <code>.\\wandb\\run-20250422_224215-f1w9zf2x\\logs</code>"
      ],
      "text/plain": [
       "<IPython.core.display.HTML object>"
      ]
     },
     "metadata": {},
     "output_type": "display_data"
    },
    {
     "name": "stderr",
     "output_type": "stream",
     "text": [
      "100%|██████████| 5/5 [01:23<00:00, 16.71s/it]\n",
      "[I 2025-04-22 22:43:42,127] Trial 1 finished with value: 9.64047147908032 and parameters: {'learning_rate': 0.2890525550150802, 'n_estimators': 76, 'max_depth': 6}. Best is trial 0 with value: 9.520680969710947.\n"
     ]
    },
    {
     "data": {
      "text/html": [
       "Tracking run with wandb version 0.19.9"
      ],
      "text/plain": [
       "<IPython.core.display.HTML object>"
      ]
     },
     "metadata": {},
     "output_type": "display_data"
    },
    {
     "data": {
      "text/html": [
       "Run data is saved locally in <code>c:\\Users\\javier\\OneDrive\\Documents\\Repo\\AprMaqI\\wandb\\run-20250422_224342-gwvlwpuw</code>"
      ],
      "text/plain": [
       "<IPython.core.display.HTML object>"
      ]
     },
     "metadata": {},
     "output_type": "display_data"
    },
    {
     "data": {
      "text/html": [
       "Syncing run <strong><a href='https://wandb.ai/javiergonzaloetcheto-universidad-de-buenos-aires/optuna-gbr/runs/gwvlwpuw' target=\"_blank\">gradient-boosting-optimization</a></strong> to <a href='https://wandb.ai/javiergonzaloetcheto-universidad-de-buenos-aires/optuna-gbr' target=\"_blank\">Weights & Biases</a> (<a href='https://wandb.me/developer-guide' target=\"_blank\">docs</a>)<br>"
      ],
      "text/plain": [
       "<IPython.core.display.HTML object>"
      ]
     },
     "metadata": {},
     "output_type": "display_data"
    },
    {
     "data": {
      "text/html": [
       " View project at <a href='https://wandb.ai/javiergonzaloetcheto-universidad-de-buenos-aires/optuna-gbr' target=\"_blank\">https://wandb.ai/javiergonzaloetcheto-universidad-de-buenos-aires/optuna-gbr</a>"
      ],
      "text/plain": [
       "<IPython.core.display.HTML object>"
      ]
     },
     "metadata": {},
     "output_type": "display_data"
    },
    {
     "data": {
      "text/html": [
       " View run at <a href='https://wandb.ai/javiergonzaloetcheto-universidad-de-buenos-aires/optuna-gbr/runs/gwvlwpuw' target=\"_blank\">https://wandb.ai/javiergonzaloetcheto-universidad-de-buenos-aires/optuna-gbr/runs/gwvlwpuw</a>"
      ],
      "text/plain": [
       "<IPython.core.display.HTML object>"
      ]
     },
     "metadata": {},
     "output_type": "display_data"
    },
    {
     "data": {
      "text/html": [],
      "text/plain": [
       "<IPython.core.display.HTML object>"
      ]
     },
     "metadata": {},
     "output_type": "display_data"
    },
    {
     "data": {
      "text/html": [
       "<br>    <style><br>        .wandb-row {<br>            display: flex;<br>            flex-direction: row;<br>            flex-wrap: wrap;<br>            justify-content: flex-start;<br>            width: 100%;<br>        }<br>        .wandb-col {<br>            display: flex;<br>            flex-direction: column;<br>            flex-basis: 100%;<br>            flex: 1;<br>            padding: 10px;<br>        }<br>    </style><br><div class=\"wandb-row\"><div class=\"wandb-col\"><h3>Run history:</h3><br/><table class=\"wandb\"><tr><td>learning_rate</td><td>▁</td></tr><tr><td>max_depth</td><td>▁</td></tr><tr><td>n_estimators</td><td>▁</td></tr><tr><td>trial_number</td><td>▁</td></tr><tr><td>value</td><td>▁</td></tr></table><br/></div><div class=\"wandb-col\"><h3>Run summary:</h3><br/><table class=\"wandb\"><tr><td>learning_rate</td><td>0.28905</td></tr><tr><td>max_depth</td><td>6</td></tr><tr><td>n_estimators</td><td>76</td></tr><tr><td>trial_number</td><td>1</td></tr><tr><td>value</td><td>9.64047</td></tr></table><br/></div></div>"
      ],
      "text/plain": [
       "<IPython.core.display.HTML object>"
      ]
     },
     "metadata": {},
     "output_type": "display_data"
    },
    {
     "data": {
      "text/html": [
       " View run <strong style=\"color:#cdcd00\">trial/1/gradient-boosting-optimization</strong> at: <a href='https://wandb.ai/javiergonzaloetcheto-universidad-de-buenos-aires/optuna-gbr/runs/gwvlwpuw' target=\"_blank\">https://wandb.ai/javiergonzaloetcheto-universidad-de-buenos-aires/optuna-gbr/runs/gwvlwpuw</a><br> View project at: <a href='https://wandb.ai/javiergonzaloetcheto-universidad-de-buenos-aires/optuna-gbr' target=\"_blank\">https://wandb.ai/javiergonzaloetcheto-universidad-de-buenos-aires/optuna-gbr</a><br>Synced 5 W&B file(s), 0 media file(s), 0 artifact file(s) and 0 other file(s)"
      ],
      "text/plain": [
       "<IPython.core.display.HTML object>"
      ]
     },
     "metadata": {},
     "output_type": "display_data"
    },
    {
     "data": {
      "text/html": [
       "Find logs at: <code>.\\wandb\\run-20250422_224342-gwvlwpuw\\logs</code>"
      ],
      "text/plain": [
       "<IPython.core.display.HTML object>"
      ]
     },
     "metadata": {},
     "output_type": "display_data"
    },
    {
     "name": "stderr",
     "output_type": "stream",
     "text": [
      "100%|██████████| 5/5 [00:56<00:00, 11.27s/it]\n",
      "[I 2025-04-22 22:44:41,779] Trial 2 finished with value: 9.509759112752088 and parameters: {'learning_rate': 0.14020016625897364, 'n_estimators': 53, 'max_depth': 5}. Best is trial 2 with value: 9.509759112752088.\n"
     ]
    },
    {
     "data": {
      "text/html": [
       "Tracking run with wandb version 0.19.9"
      ],
      "text/plain": [
       "<IPython.core.display.HTML object>"
      ]
     },
     "metadata": {},
     "output_type": "display_data"
    },
    {
     "data": {
      "text/html": [
       "Run data is saved locally in <code>c:\\Users\\javier\\OneDrive\\Documents\\Repo\\AprMaqI\\wandb\\run-20250422_224441-xeqakyao</code>"
      ],
      "text/plain": [
       "<IPython.core.display.HTML object>"
      ]
     },
     "metadata": {},
     "output_type": "display_data"
    },
    {
     "data": {
      "text/html": [
       "Syncing run <strong><a href='https://wandb.ai/javiergonzaloetcheto-universidad-de-buenos-aires/optuna-gbr/runs/xeqakyao' target=\"_blank\">gradient-boosting-optimization</a></strong> to <a href='https://wandb.ai/javiergonzaloetcheto-universidad-de-buenos-aires/optuna-gbr' target=\"_blank\">Weights & Biases</a> (<a href='https://wandb.me/developer-guide' target=\"_blank\">docs</a>)<br>"
      ],
      "text/plain": [
       "<IPython.core.display.HTML object>"
      ]
     },
     "metadata": {},
     "output_type": "display_data"
    },
    {
     "data": {
      "text/html": [
       " View project at <a href='https://wandb.ai/javiergonzaloetcheto-universidad-de-buenos-aires/optuna-gbr' target=\"_blank\">https://wandb.ai/javiergonzaloetcheto-universidad-de-buenos-aires/optuna-gbr</a>"
      ],
      "text/plain": [
       "<IPython.core.display.HTML object>"
      ]
     },
     "metadata": {},
     "output_type": "display_data"
    },
    {
     "data": {
      "text/html": [
       " View run at <a href='https://wandb.ai/javiergonzaloetcheto-universidad-de-buenos-aires/optuna-gbr/runs/xeqakyao' target=\"_blank\">https://wandb.ai/javiergonzaloetcheto-universidad-de-buenos-aires/optuna-gbr/runs/xeqakyao</a>"
      ],
      "text/plain": [
       "<IPython.core.display.HTML object>"
      ]
     },
     "metadata": {},
     "output_type": "display_data"
    },
    {
     "data": {
      "text/html": [],
      "text/plain": [
       "<IPython.core.display.HTML object>"
      ]
     },
     "metadata": {},
     "output_type": "display_data"
    },
    {
     "data": {
      "text/html": [
       "<br>    <style><br>        .wandb-row {<br>            display: flex;<br>            flex-direction: row;<br>            flex-wrap: wrap;<br>            justify-content: flex-start;<br>            width: 100%;<br>        }<br>        .wandb-col {<br>            display: flex;<br>            flex-direction: column;<br>            flex-basis: 100%;<br>            flex: 1;<br>            padding: 10px;<br>        }<br>    </style><br><div class=\"wandb-row\"><div class=\"wandb-col\"><h3>Run history:</h3><br/><table class=\"wandb\"><tr><td>learning_rate</td><td>▁</td></tr><tr><td>max_depth</td><td>▁</td></tr><tr><td>n_estimators</td><td>▁</td></tr><tr><td>trial_number</td><td>▁</td></tr><tr><td>value</td><td>▁</td></tr></table><br/></div><div class=\"wandb-col\"><h3>Run summary:</h3><br/><table class=\"wandb\"><tr><td>learning_rate</td><td>0.1402</td></tr><tr><td>max_depth</td><td>5</td></tr><tr><td>n_estimators</td><td>53</td></tr><tr><td>trial_number</td><td>2</td></tr><tr><td>value</td><td>9.50976</td></tr></table><br/></div></div>"
      ],
      "text/plain": [
       "<IPython.core.display.HTML object>"
      ]
     },
     "metadata": {},
     "output_type": "display_data"
    },
    {
     "data": {
      "text/html": [
       " View run <strong style=\"color:#cdcd00\">trial/2/gradient-boosting-optimization</strong> at: <a href='https://wandb.ai/javiergonzaloetcheto-universidad-de-buenos-aires/optuna-gbr/runs/xeqakyao' target=\"_blank\">https://wandb.ai/javiergonzaloetcheto-universidad-de-buenos-aires/optuna-gbr/runs/xeqakyao</a><br> View project at: <a href='https://wandb.ai/javiergonzaloetcheto-universidad-de-buenos-aires/optuna-gbr' target=\"_blank\">https://wandb.ai/javiergonzaloetcheto-universidad-de-buenos-aires/optuna-gbr</a><br>Synced 5 W&B file(s), 0 media file(s), 0 artifact file(s) and 0 other file(s)"
      ],
      "text/plain": [
       "<IPython.core.display.HTML object>"
      ]
     },
     "metadata": {},
     "output_type": "display_data"
    },
    {
     "data": {
      "text/html": [
       "Find logs at: <code>.\\wandb\\run-20250422_224441-xeqakyao\\logs</code>"
      ],
      "text/plain": [
       "<IPython.core.display.HTML object>"
      ]
     },
     "metadata": {},
     "output_type": "display_data"
    },
    {
     "name": "stderr",
     "output_type": "stream",
     "text": [
      "100%|██████████| 5/5 [01:44<00:00, 20.90s/it]\n",
      "[I 2025-04-22 22:46:29,279] Trial 3 finished with value: 9.503060215511114 and parameters: {'learning_rate': 0.05916029040105106, 'n_estimators': 87, 'max_depth': 6}. Best is trial 3 with value: 9.503060215511114.\n"
     ]
    },
    {
     "data": {
      "text/html": [
       "Tracking run with wandb version 0.19.9"
      ],
      "text/plain": [
       "<IPython.core.display.HTML object>"
      ]
     },
     "metadata": {},
     "output_type": "display_data"
    },
    {
     "data": {
      "text/html": [
       "Run data is saved locally in <code>c:\\Users\\javier\\OneDrive\\Documents\\Repo\\AprMaqI\\wandb\\run-20250422_224629-zi6rj6hc</code>"
      ],
      "text/plain": [
       "<IPython.core.display.HTML object>"
      ]
     },
     "metadata": {},
     "output_type": "display_data"
    },
    {
     "data": {
      "text/html": [
       "Syncing run <strong><a href='https://wandb.ai/javiergonzaloetcheto-universidad-de-buenos-aires/optuna-gbr/runs/zi6rj6hc' target=\"_blank\">gradient-boosting-optimization</a></strong> to <a href='https://wandb.ai/javiergonzaloetcheto-universidad-de-buenos-aires/optuna-gbr' target=\"_blank\">Weights & Biases</a> (<a href='https://wandb.me/developer-guide' target=\"_blank\">docs</a>)<br>"
      ],
      "text/plain": [
       "<IPython.core.display.HTML object>"
      ]
     },
     "metadata": {},
     "output_type": "display_data"
    },
    {
     "data": {
      "text/html": [
       " View project at <a href='https://wandb.ai/javiergonzaloetcheto-universidad-de-buenos-aires/optuna-gbr' target=\"_blank\">https://wandb.ai/javiergonzaloetcheto-universidad-de-buenos-aires/optuna-gbr</a>"
      ],
      "text/plain": [
       "<IPython.core.display.HTML object>"
      ]
     },
     "metadata": {},
     "output_type": "display_data"
    },
    {
     "data": {
      "text/html": [
       " View run at <a href='https://wandb.ai/javiergonzaloetcheto-universidad-de-buenos-aires/optuna-gbr/runs/zi6rj6hc' target=\"_blank\">https://wandb.ai/javiergonzaloetcheto-universidad-de-buenos-aires/optuna-gbr/runs/zi6rj6hc</a>"
      ],
      "text/plain": [
       "<IPython.core.display.HTML object>"
      ]
     },
     "metadata": {},
     "output_type": "display_data"
    },
    {
     "data": {
      "text/html": [],
      "text/plain": [
       "<IPython.core.display.HTML object>"
      ]
     },
     "metadata": {},
     "output_type": "display_data"
    },
    {
     "data": {
      "text/html": [
       "<br>    <style><br>        .wandb-row {<br>            display: flex;<br>            flex-direction: row;<br>            flex-wrap: wrap;<br>            justify-content: flex-start;<br>            width: 100%;<br>        }<br>        .wandb-col {<br>            display: flex;<br>            flex-direction: column;<br>            flex-basis: 100%;<br>            flex: 1;<br>            padding: 10px;<br>        }<br>    </style><br><div class=\"wandb-row\"><div class=\"wandb-col\"><h3>Run history:</h3><br/><table class=\"wandb\"><tr><td>learning_rate</td><td>▁</td></tr><tr><td>max_depth</td><td>▁</td></tr><tr><td>n_estimators</td><td>▁</td></tr><tr><td>trial_number</td><td>▁</td></tr><tr><td>value</td><td>▁</td></tr></table><br/></div><div class=\"wandb-col\"><h3>Run summary:</h3><br/><table class=\"wandb\"><tr><td>learning_rate</td><td>0.05916</td></tr><tr><td>max_depth</td><td>6</td></tr><tr><td>n_estimators</td><td>87</td></tr><tr><td>trial_number</td><td>3</td></tr><tr><td>value</td><td>9.50306</td></tr></table><br/></div></div>"
      ],
      "text/plain": [
       "<IPython.core.display.HTML object>"
      ]
     },
     "metadata": {},
     "output_type": "display_data"
    },
    {
     "data": {
      "text/html": [
       " View run <strong style=\"color:#cdcd00\">trial/3/gradient-boosting-optimization</strong> at: <a href='https://wandb.ai/javiergonzaloetcheto-universidad-de-buenos-aires/optuna-gbr/runs/zi6rj6hc' target=\"_blank\">https://wandb.ai/javiergonzaloetcheto-universidad-de-buenos-aires/optuna-gbr/runs/zi6rj6hc</a><br> View project at: <a href='https://wandb.ai/javiergonzaloetcheto-universidad-de-buenos-aires/optuna-gbr' target=\"_blank\">https://wandb.ai/javiergonzaloetcheto-universidad-de-buenos-aires/optuna-gbr</a><br>Synced 5 W&B file(s), 0 media file(s), 0 artifact file(s) and 0 other file(s)"
      ],
      "text/plain": [
       "<IPython.core.display.HTML object>"
      ]
     },
     "metadata": {},
     "output_type": "display_data"
    },
    {
     "data": {
      "text/html": [
       "Find logs at: <code>.\\wandb\\run-20250422_224629-zi6rj6hc\\logs</code>"
      ],
      "text/plain": [
       "<IPython.core.display.HTML object>"
      ]
     },
     "metadata": {},
     "output_type": "display_data"
    },
    {
     "name": "stderr",
     "output_type": "stream",
     "text": [
      "100%|██████████| 5/5 [00:40<00:00,  8.02s/it]\n",
      "[I 2025-04-22 22:47:12,222] Trial 4 finished with value: 9.588130046010743 and parameters: {'learning_rate': 0.25428003640437413, 'n_estimators': 58, 'max_depth': 6}. Best is trial 3 with value: 9.503060215511114.\n"
     ]
    },
    {
     "data": {
      "text/html": [
       "Tracking run with wandb version 0.19.9"
      ],
      "text/plain": [
       "<IPython.core.display.HTML object>"
      ]
     },
     "metadata": {},
     "output_type": "display_data"
    },
    {
     "data": {
      "text/html": [
       "Run data is saved locally in <code>c:\\Users\\javier\\OneDrive\\Documents\\Repo\\AprMaqI\\wandb\\run-20250422_224712-v78flqrv</code>"
      ],
      "text/plain": [
       "<IPython.core.display.HTML object>"
      ]
     },
     "metadata": {},
     "output_type": "display_data"
    },
    {
     "data": {
      "text/html": [
       "Syncing run <strong><a href='https://wandb.ai/javiergonzaloetcheto-universidad-de-buenos-aires/optuna-gbr/runs/v78flqrv' target=\"_blank\">gradient-boosting-optimization</a></strong> to <a href='https://wandb.ai/javiergonzaloetcheto-universidad-de-buenos-aires/optuna-gbr' target=\"_blank\">Weights & Biases</a> (<a href='https://wandb.me/developer-guide' target=\"_blank\">docs</a>)<br>"
      ],
      "text/plain": [
       "<IPython.core.display.HTML object>"
      ]
     },
     "metadata": {},
     "output_type": "display_data"
    },
    {
     "data": {
      "text/html": [
       " View project at <a href='https://wandb.ai/javiergonzaloetcheto-universidad-de-buenos-aires/optuna-gbr' target=\"_blank\">https://wandb.ai/javiergonzaloetcheto-universidad-de-buenos-aires/optuna-gbr</a>"
      ],
      "text/plain": [
       "<IPython.core.display.HTML object>"
      ]
     },
     "metadata": {},
     "output_type": "display_data"
    },
    {
     "data": {
      "text/html": [
       " View run at <a href='https://wandb.ai/javiergonzaloetcheto-universidad-de-buenos-aires/optuna-gbr/runs/v78flqrv' target=\"_blank\">https://wandb.ai/javiergonzaloetcheto-universidad-de-buenos-aires/optuna-gbr/runs/v78flqrv</a>"
      ],
      "text/plain": [
       "<IPython.core.display.HTML object>"
      ]
     },
     "metadata": {},
     "output_type": "display_data"
    },
    {
     "data": {
      "text/html": [],
      "text/plain": [
       "<IPython.core.display.HTML object>"
      ]
     },
     "metadata": {},
     "output_type": "display_data"
    },
    {
     "data": {
      "text/html": [
       "<br>    <style><br>        .wandb-row {<br>            display: flex;<br>            flex-direction: row;<br>            flex-wrap: wrap;<br>            justify-content: flex-start;<br>            width: 100%;<br>        }<br>        .wandb-col {<br>            display: flex;<br>            flex-direction: column;<br>            flex-basis: 100%;<br>            flex: 1;<br>            padding: 10px;<br>        }<br>    </style><br><div class=\"wandb-row\"><div class=\"wandb-col\"><h3>Run history:</h3><br/><table class=\"wandb\"><tr><td>learning_rate</td><td>▁</td></tr><tr><td>max_depth</td><td>▁</td></tr><tr><td>n_estimators</td><td>▁</td></tr><tr><td>trial_number</td><td>▁</td></tr><tr><td>value</td><td>▁</td></tr></table><br/></div><div class=\"wandb-col\"><h3>Run summary:</h3><br/><table class=\"wandb\"><tr><td>learning_rate</td><td>0.25428</td></tr><tr><td>max_depth</td><td>6</td></tr><tr><td>n_estimators</td><td>58</td></tr><tr><td>trial_number</td><td>4</td></tr><tr><td>value</td><td>9.58813</td></tr></table><br/></div></div>"
      ],
      "text/plain": [
       "<IPython.core.display.HTML object>"
      ]
     },
     "metadata": {},
     "output_type": "display_data"
    },
    {
     "data": {
      "text/html": [
       " View run <strong style=\"color:#cdcd00\">trial/4/gradient-boosting-optimization</strong> at: <a href='https://wandb.ai/javiergonzaloetcheto-universidad-de-buenos-aires/optuna-gbr/runs/v78flqrv' target=\"_blank\">https://wandb.ai/javiergonzaloetcheto-universidad-de-buenos-aires/optuna-gbr/runs/v78flqrv</a><br> View project at: <a href='https://wandb.ai/javiergonzaloetcheto-universidad-de-buenos-aires/optuna-gbr' target=\"_blank\">https://wandb.ai/javiergonzaloetcheto-universidad-de-buenos-aires/optuna-gbr</a><br>Synced 5 W&B file(s), 0 media file(s), 0 artifact file(s) and 0 other file(s)"
      ],
      "text/plain": [
       "<IPython.core.display.HTML object>"
      ]
     },
     "metadata": {},
     "output_type": "display_data"
    },
    {
     "data": {
      "text/html": [
       "Find logs at: <code>.\\wandb\\run-20250422_224712-v78flqrv\\logs</code>"
      ],
      "text/plain": [
       "<IPython.core.display.HTML object>"
      ]
     },
     "metadata": {},
     "output_type": "display_data"
    },
    {
     "name": "stderr",
     "output_type": "stream",
     "text": [
      "100%|██████████| 5/5 [00:25<00:00,  5.09s/it]\n",
      "[I 2025-04-22 22:47:40,740] Trial 5 finished with value: 9.507818669013107 and parameters: {'learning_rate': 0.2530830606950548, 'n_estimators': 68, 'max_depth': 3}. Best is trial 3 with value: 9.503060215511114.\n"
     ]
    },
    {
     "data": {
      "text/html": [
       "Tracking run with wandb version 0.19.9"
      ],
      "text/plain": [
       "<IPython.core.display.HTML object>"
      ]
     },
     "metadata": {},
     "output_type": "display_data"
    },
    {
     "data": {
      "text/html": [
       "Run data is saved locally in <code>c:\\Users\\javier\\OneDrive\\Documents\\Repo\\AprMaqI\\wandb\\run-20250422_224740-bzl6h1zb</code>"
      ],
      "text/plain": [
       "<IPython.core.display.HTML object>"
      ]
     },
     "metadata": {},
     "output_type": "display_data"
    },
    {
     "data": {
      "text/html": [
       "Syncing run <strong><a href='https://wandb.ai/javiergonzaloetcheto-universidad-de-buenos-aires/optuna-gbr/runs/bzl6h1zb' target=\"_blank\">gradient-boosting-optimization</a></strong> to <a href='https://wandb.ai/javiergonzaloetcheto-universidad-de-buenos-aires/optuna-gbr' target=\"_blank\">Weights & Biases</a> (<a href='https://wandb.me/developer-guide' target=\"_blank\">docs</a>)<br>"
      ],
      "text/plain": [
       "<IPython.core.display.HTML object>"
      ]
     },
     "metadata": {},
     "output_type": "display_data"
    },
    {
     "data": {
      "text/html": [
       " View project at <a href='https://wandb.ai/javiergonzaloetcheto-universidad-de-buenos-aires/optuna-gbr' target=\"_blank\">https://wandb.ai/javiergonzaloetcheto-universidad-de-buenos-aires/optuna-gbr</a>"
      ],
      "text/plain": [
       "<IPython.core.display.HTML object>"
      ]
     },
     "metadata": {},
     "output_type": "display_data"
    },
    {
     "data": {
      "text/html": [
       " View run at <a href='https://wandb.ai/javiergonzaloetcheto-universidad-de-buenos-aires/optuna-gbr/runs/bzl6h1zb' target=\"_blank\">https://wandb.ai/javiergonzaloetcheto-universidad-de-buenos-aires/optuna-gbr/runs/bzl6h1zb</a>"
      ],
      "text/plain": [
       "<IPython.core.display.HTML object>"
      ]
     },
     "metadata": {},
     "output_type": "display_data"
    },
    {
     "data": {
      "text/html": [],
      "text/plain": [
       "<IPython.core.display.HTML object>"
      ]
     },
     "metadata": {},
     "output_type": "display_data"
    },
    {
     "data": {
      "text/html": [
       "<br>    <style><br>        .wandb-row {<br>            display: flex;<br>            flex-direction: row;<br>            flex-wrap: wrap;<br>            justify-content: flex-start;<br>            width: 100%;<br>        }<br>        .wandb-col {<br>            display: flex;<br>            flex-direction: column;<br>            flex-basis: 100%;<br>            flex: 1;<br>            padding: 10px;<br>        }<br>    </style><br><div class=\"wandb-row\"><div class=\"wandb-col\"><h3>Run history:</h3><br/><table class=\"wandb\"><tr><td>learning_rate</td><td>▁</td></tr><tr><td>max_depth</td><td>▁</td></tr><tr><td>n_estimators</td><td>▁</td></tr><tr><td>trial_number</td><td>▁</td></tr><tr><td>value</td><td>▁</td></tr></table><br/></div><div class=\"wandb-col\"><h3>Run summary:</h3><br/><table class=\"wandb\"><tr><td>learning_rate</td><td>0.25308</td></tr><tr><td>max_depth</td><td>3</td></tr><tr><td>n_estimators</td><td>68</td></tr><tr><td>trial_number</td><td>5</td></tr><tr><td>value</td><td>9.50782</td></tr></table><br/></div></div>"
      ],
      "text/plain": [
       "<IPython.core.display.HTML object>"
      ]
     },
     "metadata": {},
     "output_type": "display_data"
    },
    {
     "data": {
      "text/html": [
       " View run <strong style=\"color:#cdcd00\">trial/5/gradient-boosting-optimization</strong> at: <a href='https://wandb.ai/javiergonzaloetcheto-universidad-de-buenos-aires/optuna-gbr/runs/bzl6h1zb' target=\"_blank\">https://wandb.ai/javiergonzaloetcheto-universidad-de-buenos-aires/optuna-gbr/runs/bzl6h1zb</a><br> View project at: <a href='https://wandb.ai/javiergonzaloetcheto-universidad-de-buenos-aires/optuna-gbr' target=\"_blank\">https://wandb.ai/javiergonzaloetcheto-universidad-de-buenos-aires/optuna-gbr</a><br>Synced 5 W&B file(s), 0 media file(s), 0 artifact file(s) and 0 other file(s)"
      ],
      "text/plain": [
       "<IPython.core.display.HTML object>"
      ]
     },
     "metadata": {},
     "output_type": "display_data"
    },
    {
     "data": {
      "text/html": [
       "Find logs at: <code>.\\wandb\\run-20250422_224740-bzl6h1zb\\logs</code>"
      ],
      "text/plain": [
       "<IPython.core.display.HTML object>"
      ]
     },
     "metadata": {},
     "output_type": "display_data"
    },
    {
     "name": "stderr",
     "output_type": "stream",
     "text": [
      "100%|██████████| 5/5 [00:18<00:00,  3.71s/it]\n",
      "[I 2025-04-22 22:48:02,089] Trial 6 finished with value: 9.493807943160387 and parameters: {'learning_rate': 0.11822754755096751, 'n_estimators': 57, 'max_depth': 3}. Best is trial 6 with value: 9.493807943160387.\n"
     ]
    },
    {
     "data": {
      "text/html": [
       "Tracking run with wandb version 0.19.9"
      ],
      "text/plain": [
       "<IPython.core.display.HTML object>"
      ]
     },
     "metadata": {},
     "output_type": "display_data"
    },
    {
     "data": {
      "text/html": [
       "Run data is saved locally in <code>c:\\Users\\javier\\OneDrive\\Documents\\Repo\\AprMaqI\\wandb\\run-20250422_224802-nqcsqjmj</code>"
      ],
      "text/plain": [
       "<IPython.core.display.HTML object>"
      ]
     },
     "metadata": {},
     "output_type": "display_data"
    },
    {
     "data": {
      "text/html": [
       "Syncing run <strong><a href='https://wandb.ai/javiergonzaloetcheto-universidad-de-buenos-aires/optuna-gbr/runs/nqcsqjmj' target=\"_blank\">gradient-boosting-optimization</a></strong> to <a href='https://wandb.ai/javiergonzaloetcheto-universidad-de-buenos-aires/optuna-gbr' target=\"_blank\">Weights & Biases</a> (<a href='https://wandb.me/developer-guide' target=\"_blank\">docs</a>)<br>"
      ],
      "text/plain": [
       "<IPython.core.display.HTML object>"
      ]
     },
     "metadata": {},
     "output_type": "display_data"
    },
    {
     "data": {
      "text/html": [
       " View project at <a href='https://wandb.ai/javiergonzaloetcheto-universidad-de-buenos-aires/optuna-gbr' target=\"_blank\">https://wandb.ai/javiergonzaloetcheto-universidad-de-buenos-aires/optuna-gbr</a>"
      ],
      "text/plain": [
       "<IPython.core.display.HTML object>"
      ]
     },
     "metadata": {},
     "output_type": "display_data"
    },
    {
     "data": {
      "text/html": [
       " View run at <a href='https://wandb.ai/javiergonzaloetcheto-universidad-de-buenos-aires/optuna-gbr/runs/nqcsqjmj' target=\"_blank\">https://wandb.ai/javiergonzaloetcheto-universidad-de-buenos-aires/optuna-gbr/runs/nqcsqjmj</a>"
      ],
      "text/plain": [
       "<IPython.core.display.HTML object>"
      ]
     },
     "metadata": {},
     "output_type": "display_data"
    },
    {
     "data": {
      "text/html": [],
      "text/plain": [
       "<IPython.core.display.HTML object>"
      ]
     },
     "metadata": {},
     "output_type": "display_data"
    },
    {
     "data": {
      "text/html": [
       "<br>    <style><br>        .wandb-row {<br>            display: flex;<br>            flex-direction: row;<br>            flex-wrap: wrap;<br>            justify-content: flex-start;<br>            width: 100%;<br>        }<br>        .wandb-col {<br>            display: flex;<br>            flex-direction: column;<br>            flex-basis: 100%;<br>            flex: 1;<br>            padding: 10px;<br>        }<br>    </style><br><div class=\"wandb-row\"><div class=\"wandb-col\"><h3>Run history:</h3><br/><table class=\"wandb\"><tr><td>learning_rate</td><td>▁</td></tr><tr><td>max_depth</td><td>▁</td></tr><tr><td>n_estimators</td><td>▁</td></tr><tr><td>trial_number</td><td>▁</td></tr><tr><td>value</td><td>▁</td></tr></table><br/></div><div class=\"wandb-col\"><h3>Run summary:</h3><br/><table class=\"wandb\"><tr><td>learning_rate</td><td>0.11823</td></tr><tr><td>max_depth</td><td>3</td></tr><tr><td>n_estimators</td><td>57</td></tr><tr><td>trial_number</td><td>6</td></tr><tr><td>value</td><td>9.49381</td></tr></table><br/></div></div>"
      ],
      "text/plain": [
       "<IPython.core.display.HTML object>"
      ]
     },
     "metadata": {},
     "output_type": "display_data"
    },
    {
     "data": {
      "text/html": [
       " View run <strong style=\"color:#cdcd00\">trial/6/gradient-boosting-optimization</strong> at: <a href='https://wandb.ai/javiergonzaloetcheto-universidad-de-buenos-aires/optuna-gbr/runs/nqcsqjmj' target=\"_blank\">https://wandb.ai/javiergonzaloetcheto-universidad-de-buenos-aires/optuna-gbr/runs/nqcsqjmj</a><br> View project at: <a href='https://wandb.ai/javiergonzaloetcheto-universidad-de-buenos-aires/optuna-gbr' target=\"_blank\">https://wandb.ai/javiergonzaloetcheto-universidad-de-buenos-aires/optuna-gbr</a><br>Synced 5 W&B file(s), 0 media file(s), 0 artifact file(s) and 0 other file(s)"
      ],
      "text/plain": [
       "<IPython.core.display.HTML object>"
      ]
     },
     "metadata": {},
     "output_type": "display_data"
    },
    {
     "data": {
      "text/html": [
       "Find logs at: <code>.\\wandb\\run-20250422_224802-nqcsqjmj\\logs</code>"
      ],
      "text/plain": [
       "<IPython.core.display.HTML object>"
      ]
     },
     "metadata": {},
     "output_type": "display_data"
    },
    {
     "name": "stderr",
     "output_type": "stream",
     "text": [
      "100%|██████████| 5/5 [00:41<00:00,  8.40s/it]\n",
      "[I 2025-04-22 22:48:46,972] Trial 7 finished with value: 9.50232255568378 and parameters: {'learning_rate': 0.03481022286790896, 'n_estimators': 84, 'max_depth': 5}. Best is trial 6 with value: 9.493807943160387.\n"
     ]
    },
    {
     "data": {
      "text/html": [
       "Tracking run with wandb version 0.19.9"
      ],
      "text/plain": [
       "<IPython.core.display.HTML object>"
      ]
     },
     "metadata": {},
     "output_type": "display_data"
    },
    {
     "data": {
      "text/html": [
       "Run data is saved locally in <code>c:\\Users\\javier\\OneDrive\\Documents\\Repo\\AprMaqI\\wandb\\run-20250422_224846-h3tl9snd</code>"
      ],
      "text/plain": [
       "<IPython.core.display.HTML object>"
      ]
     },
     "metadata": {},
     "output_type": "display_data"
    },
    {
     "data": {
      "text/html": [
       "Syncing run <strong><a href='https://wandb.ai/javiergonzaloetcheto-universidad-de-buenos-aires/optuna-gbr/runs/h3tl9snd' target=\"_blank\">gradient-boosting-optimization</a></strong> to <a href='https://wandb.ai/javiergonzaloetcheto-universidad-de-buenos-aires/optuna-gbr' target=\"_blank\">Weights & Biases</a> (<a href='https://wandb.me/developer-guide' target=\"_blank\">docs</a>)<br>"
      ],
      "text/plain": [
       "<IPython.core.display.HTML object>"
      ]
     },
     "metadata": {},
     "output_type": "display_data"
    },
    {
     "data": {
      "text/html": [
       " View project at <a href='https://wandb.ai/javiergonzaloetcheto-universidad-de-buenos-aires/optuna-gbr' target=\"_blank\">https://wandb.ai/javiergonzaloetcheto-universidad-de-buenos-aires/optuna-gbr</a>"
      ],
      "text/plain": [
       "<IPython.core.display.HTML object>"
      ]
     },
     "metadata": {},
     "output_type": "display_data"
    },
    {
     "data": {
      "text/html": [
       " View run at <a href='https://wandb.ai/javiergonzaloetcheto-universidad-de-buenos-aires/optuna-gbr/runs/h3tl9snd' target=\"_blank\">https://wandb.ai/javiergonzaloetcheto-universidad-de-buenos-aires/optuna-gbr/runs/h3tl9snd</a>"
      ],
      "text/plain": [
       "<IPython.core.display.HTML object>"
      ]
     },
     "metadata": {},
     "output_type": "display_data"
    },
    {
     "data": {
      "text/html": [],
      "text/plain": [
       "<IPython.core.display.HTML object>"
      ]
     },
     "metadata": {},
     "output_type": "display_data"
    },
    {
     "data": {
      "text/html": [
       "<br>    <style><br>        .wandb-row {<br>            display: flex;<br>            flex-direction: row;<br>            flex-wrap: wrap;<br>            justify-content: flex-start;<br>            width: 100%;<br>        }<br>        .wandb-col {<br>            display: flex;<br>            flex-direction: column;<br>            flex-basis: 100%;<br>            flex: 1;<br>            padding: 10px;<br>        }<br>    </style><br><div class=\"wandb-row\"><div class=\"wandb-col\"><h3>Run history:</h3><br/><table class=\"wandb\"><tr><td>learning_rate</td><td>▁</td></tr><tr><td>max_depth</td><td>▁</td></tr><tr><td>n_estimators</td><td>▁</td></tr><tr><td>trial_number</td><td>▁</td></tr><tr><td>value</td><td>▁</td></tr></table><br/></div><div class=\"wandb-col\"><h3>Run summary:</h3><br/><table class=\"wandb\"><tr><td>learning_rate</td><td>0.03481</td></tr><tr><td>max_depth</td><td>5</td></tr><tr><td>n_estimators</td><td>84</td></tr><tr><td>trial_number</td><td>7</td></tr><tr><td>value</td><td>9.50232</td></tr></table><br/></div></div>"
      ],
      "text/plain": [
       "<IPython.core.display.HTML object>"
      ]
     },
     "metadata": {},
     "output_type": "display_data"
    },
    {
     "data": {
      "text/html": [
       " View run <strong style=\"color:#cdcd00\">trial/7/gradient-boosting-optimization</strong> at: <a href='https://wandb.ai/javiergonzaloetcheto-universidad-de-buenos-aires/optuna-gbr/runs/h3tl9snd' target=\"_blank\">https://wandb.ai/javiergonzaloetcheto-universidad-de-buenos-aires/optuna-gbr/runs/h3tl9snd</a><br> View project at: <a href='https://wandb.ai/javiergonzaloetcheto-universidad-de-buenos-aires/optuna-gbr' target=\"_blank\">https://wandb.ai/javiergonzaloetcheto-universidad-de-buenos-aires/optuna-gbr</a><br>Synced 5 W&B file(s), 0 media file(s), 0 artifact file(s) and 0 other file(s)"
      ],
      "text/plain": [
       "<IPython.core.display.HTML object>"
      ]
     },
     "metadata": {},
     "output_type": "display_data"
    },
    {
     "data": {
      "text/html": [
       "Find logs at: <code>.\\wandb\\run-20250422_224846-h3tl9snd\\logs</code>"
      ],
      "text/plain": [
       "<IPython.core.display.HTML object>"
      ]
     },
     "metadata": {},
     "output_type": "display_data"
    },
    {
     "name": "stderr",
     "output_type": "stream",
     "text": [
      "100%|██████████| 5/5 [00:30<00:00,  6.18s/it]\n",
      "[I 2025-04-22 22:49:20,823] Trial 8 finished with value: 9.51526515885458 and parameters: {'learning_rate': 0.17697635768399483, 'n_estimators': 78, 'max_depth': 4}. Best is trial 6 with value: 9.493807943160387.\n"
     ]
    },
    {
     "data": {
      "text/html": [
       "Tracking run with wandb version 0.19.9"
      ],
      "text/plain": [
       "<IPython.core.display.HTML object>"
      ]
     },
     "metadata": {},
     "output_type": "display_data"
    },
    {
     "data": {
      "text/html": [
       "Run data is saved locally in <code>c:\\Users\\javier\\OneDrive\\Documents\\Repo\\AprMaqI\\wandb\\run-20250422_224920-bhd5h5eq</code>"
      ],
      "text/plain": [
       "<IPython.core.display.HTML object>"
      ]
     },
     "metadata": {},
     "output_type": "display_data"
    },
    {
     "data": {
      "text/html": [
       "Syncing run <strong><a href='https://wandb.ai/javiergonzaloetcheto-universidad-de-buenos-aires/optuna-gbr/runs/bhd5h5eq' target=\"_blank\">gradient-boosting-optimization</a></strong> to <a href='https://wandb.ai/javiergonzaloetcheto-universidad-de-buenos-aires/optuna-gbr' target=\"_blank\">Weights & Biases</a> (<a href='https://wandb.me/developer-guide' target=\"_blank\">docs</a>)<br>"
      ],
      "text/plain": [
       "<IPython.core.display.HTML object>"
      ]
     },
     "metadata": {},
     "output_type": "display_data"
    },
    {
     "data": {
      "text/html": [
       " View project at <a href='https://wandb.ai/javiergonzaloetcheto-universidad-de-buenos-aires/optuna-gbr' target=\"_blank\">https://wandb.ai/javiergonzaloetcheto-universidad-de-buenos-aires/optuna-gbr</a>"
      ],
      "text/plain": [
       "<IPython.core.display.HTML object>"
      ]
     },
     "metadata": {},
     "output_type": "display_data"
    },
    {
     "data": {
      "text/html": [
       " View run at <a href='https://wandb.ai/javiergonzaloetcheto-universidad-de-buenos-aires/optuna-gbr/runs/bhd5h5eq' target=\"_blank\">https://wandb.ai/javiergonzaloetcheto-universidad-de-buenos-aires/optuna-gbr/runs/bhd5h5eq</a>"
      ],
      "text/plain": [
       "<IPython.core.display.HTML object>"
      ]
     },
     "metadata": {},
     "output_type": "display_data"
    },
    {
     "data": {
      "text/html": [],
      "text/plain": [
       "<IPython.core.display.HTML object>"
      ]
     },
     "metadata": {},
     "output_type": "display_data"
    },
    {
     "data": {
      "text/html": [
       "<br>    <style><br>        .wandb-row {<br>            display: flex;<br>            flex-direction: row;<br>            flex-wrap: wrap;<br>            justify-content: flex-start;<br>            width: 100%;<br>        }<br>        .wandb-col {<br>            display: flex;<br>            flex-direction: column;<br>            flex-basis: 100%;<br>            flex: 1;<br>            padding: 10px;<br>        }<br>    </style><br><div class=\"wandb-row\"><div class=\"wandb-col\"><h3>Run history:</h3><br/><table class=\"wandb\"><tr><td>learning_rate</td><td>▁</td></tr><tr><td>max_depth</td><td>▁</td></tr><tr><td>n_estimators</td><td>▁</td></tr><tr><td>trial_number</td><td>▁</td></tr><tr><td>value</td><td>▁</td></tr></table><br/></div><div class=\"wandb-col\"><h3>Run summary:</h3><br/><table class=\"wandb\"><tr><td>learning_rate</td><td>0.17698</td></tr><tr><td>max_depth</td><td>4</td></tr><tr><td>n_estimators</td><td>78</td></tr><tr><td>trial_number</td><td>8</td></tr><tr><td>value</td><td>9.51527</td></tr></table><br/></div></div>"
      ],
      "text/plain": [
       "<IPython.core.display.HTML object>"
      ]
     },
     "metadata": {},
     "output_type": "display_data"
    },
    {
     "data": {
      "text/html": [
       " View run <strong style=\"color:#cdcd00\">trial/8/gradient-boosting-optimization</strong> at: <a href='https://wandb.ai/javiergonzaloetcheto-universidad-de-buenos-aires/optuna-gbr/runs/bhd5h5eq' target=\"_blank\">https://wandb.ai/javiergonzaloetcheto-universidad-de-buenos-aires/optuna-gbr/runs/bhd5h5eq</a><br> View project at: <a href='https://wandb.ai/javiergonzaloetcheto-universidad-de-buenos-aires/optuna-gbr' target=\"_blank\">https://wandb.ai/javiergonzaloetcheto-universidad-de-buenos-aires/optuna-gbr</a><br>Synced 5 W&B file(s), 0 media file(s), 0 artifact file(s) and 0 other file(s)"
      ],
      "text/plain": [
       "<IPython.core.display.HTML object>"
      ]
     },
     "metadata": {},
     "output_type": "display_data"
    },
    {
     "data": {
      "text/html": [
       "Find logs at: <code>.\\wandb\\run-20250422_224920-bhd5h5eq\\logs</code>"
      ],
      "text/plain": [
       "<IPython.core.display.HTML object>"
      ]
     },
     "metadata": {},
     "output_type": "display_data"
    },
    {
     "name": "stderr",
     "output_type": "stream",
     "text": [
      "100%|██████████| 5/5 [00:20<00:00,  4.09s/it]\n",
      "[I 2025-04-22 22:49:44,487] Trial 9 finished with value: 9.496667144457819 and parameters: {'learning_rate': 0.1528115914632727, 'n_estimators': 66, 'max_depth': 3}. Best is trial 6 with value: 9.493807943160387.\n"
     ]
    },
    {
     "data": {
      "text/html": [
       "Tracking run with wandb version 0.19.9"
      ],
      "text/plain": [
       "<IPython.core.display.HTML object>"
      ]
     },
     "metadata": {},
     "output_type": "display_data"
    },
    {
     "data": {
      "text/html": [
       "Run data is saved locally in <code>c:\\Users\\javier\\OneDrive\\Documents\\Repo\\AprMaqI\\wandb\\run-20250422_224944-1cqjhjaf</code>"
      ],
      "text/plain": [
       "<IPython.core.display.HTML object>"
      ]
     },
     "metadata": {},
     "output_type": "display_data"
    },
    {
     "data": {
      "text/html": [
       "Syncing run <strong><a href='https://wandb.ai/javiergonzaloetcheto-universidad-de-buenos-aires/optuna-gbr/runs/1cqjhjaf' target=\"_blank\">gradient-boosting-optimization</a></strong> to <a href='https://wandb.ai/javiergonzaloetcheto-universidad-de-buenos-aires/optuna-gbr' target=\"_blank\">Weights & Biases</a> (<a href='https://wandb.me/developer-guide' target=\"_blank\">docs</a>)<br>"
      ],
      "text/plain": [
       "<IPython.core.display.HTML object>"
      ]
     },
     "metadata": {},
     "output_type": "display_data"
    },
    {
     "data": {
      "text/html": [
       " View project at <a href='https://wandb.ai/javiergonzaloetcheto-universidad-de-buenos-aires/optuna-gbr' target=\"_blank\">https://wandb.ai/javiergonzaloetcheto-universidad-de-buenos-aires/optuna-gbr</a>"
      ],
      "text/plain": [
       "<IPython.core.display.HTML object>"
      ]
     },
     "metadata": {},
     "output_type": "display_data"
    },
    {
     "data": {
      "text/html": [
       " View run at <a href='https://wandb.ai/javiergonzaloetcheto-universidad-de-buenos-aires/optuna-gbr/runs/1cqjhjaf' target=\"_blank\">https://wandb.ai/javiergonzaloetcheto-universidad-de-buenos-aires/optuna-gbr/runs/1cqjhjaf</a>"
      ],
      "text/plain": [
       "<IPython.core.display.HTML object>"
      ]
     },
     "metadata": {},
     "output_type": "display_data"
    },
    {
     "data": {
      "text/html": [],
      "text/plain": [
       "<IPython.core.display.HTML object>"
      ]
     },
     "metadata": {},
     "output_type": "display_data"
    },
    {
     "data": {
      "text/html": [
       "<br>    <style><br>        .wandb-row {<br>            display: flex;<br>            flex-direction: row;<br>            flex-wrap: wrap;<br>            justify-content: flex-start;<br>            width: 100%;<br>        }<br>        .wandb-col {<br>            display: flex;<br>            flex-direction: column;<br>            flex-basis: 100%;<br>            flex: 1;<br>            padding: 10px;<br>        }<br>    </style><br><div class=\"wandb-row\"><div class=\"wandb-col\"><h3>Run history:</h3><br/><table class=\"wandb\"><tr><td>learning_rate</td><td>▁</td></tr><tr><td>max_depth</td><td>▁</td></tr><tr><td>n_estimators</td><td>▁</td></tr><tr><td>trial_number</td><td>▁</td></tr><tr><td>value</td><td>▁</td></tr></table><br/></div><div class=\"wandb-col\"><h3>Run summary:</h3><br/><table class=\"wandb\"><tr><td>learning_rate</td><td>0.15281</td></tr><tr><td>max_depth</td><td>3</td></tr><tr><td>n_estimators</td><td>66</td></tr><tr><td>trial_number</td><td>9</td></tr><tr><td>value</td><td>9.49667</td></tr></table><br/></div></div>"
      ],
      "text/plain": [
       "<IPython.core.display.HTML object>"
      ]
     },
     "metadata": {},
     "output_type": "display_data"
    },
    {
     "data": {
      "text/html": [
       " View run <strong style=\"color:#cdcd00\">trial/9/gradient-boosting-optimization</strong> at: <a href='https://wandb.ai/javiergonzaloetcheto-universidad-de-buenos-aires/optuna-gbr/runs/1cqjhjaf' target=\"_blank\">https://wandb.ai/javiergonzaloetcheto-universidad-de-buenos-aires/optuna-gbr/runs/1cqjhjaf</a><br> View project at: <a href='https://wandb.ai/javiergonzaloetcheto-universidad-de-buenos-aires/optuna-gbr' target=\"_blank\">https://wandb.ai/javiergonzaloetcheto-universidad-de-buenos-aires/optuna-gbr</a><br>Synced 5 W&B file(s), 0 media file(s), 0 artifact file(s) and 0 other file(s)"
      ],
      "text/plain": [
       "<IPython.core.display.HTML object>"
      ]
     },
     "metadata": {},
     "output_type": "display_data"
    },
    {
     "data": {
      "text/html": [
       "Find logs at: <code>.\\wandb\\run-20250422_224944-1cqjhjaf\\logs</code>"
      ],
      "text/plain": [
       "<IPython.core.display.HTML object>"
      ]
     },
     "metadata": {},
     "output_type": "display_data"
    }
   ],
   "source": [
    "wandb_kwargs = {\n",
    "    \"project\": \"optuna-gbr\", \n",
    "    \"name\": \"gradient-boosting-optimization\"\n",
    "}\n",
    "\n",
    "wandbc = WeightsAndBiasesCallback(wandb_kwargs=wandb_kwargs, as_multirun=True)\n",
    "\n",
    "study = optuna.create_study(direction=\"minimize\")\n",
    "study.optimize(objective_gradient_boosting, n_trials=10, callbacks=[wandbc])"
   ]
  },
  {
   "cell_type": "code",
   "execution_count": 47,
   "id": "44c395c5",
   "metadata": {},
   "outputs": [
    {
     "name": "stdout",
     "output_type": "stream",
     "text": [
      "Mejores parámetros: {'learning_rate': 0.11822754755096751, 'n_estimators': 57, 'max_depth': 3}\n",
      "Mejor valor de la métrica (RMSE): 9.493807943160387\n"
     ]
    }
   ],
   "source": [
    "print(\"Mejores parámetros:\", study.best_params)\n",
    "print(\"Mejor valor de la métrica (RMSE):\", study.best_value)"
   ]
  },
  {
   "cell_type": "markdown",
   "id": "5dc0f719-ec5a-49a8-b3e1-44d387351a05",
   "metadata": {},
   "source": [
    "Nota martín: lo que yo creo que habría que hacer:\n",
    "\n",
    "* Probar diferentes modelos con valores default sobre todas las variables\n",
    "* Alguno de esos va a andar notablemente mejor que los demás (seguramente LightGBM)\n",
    "* Agarrar el que sea preferible y hacer backward selection probando de dropear `Number_of_Ads`, `no_guest` y `sentiment_encoded` a ver si la performance mejora (recordar que estamos midiendo RMSE)\n",
    "* Ahí hacer HP tuning con optuna y w&b\n",
    "\n",
    "Recordar que LightGBM usa su propio target encoder, ver [ref](https://lightgbm.readthedocs.io/en/stable/pythonapi/lightgbm.LGBMRegressor.html#lightgbm.LGBMRegressor) e [integr con optuna](https://optuna-integration.readthedocs.io/en/stable/reference/index.html#lightgbm).\n"
   ]
  }
 ],
 "metadata": {
  "kernelspec": {
   "display_name": "myenv",
   "language": "python",
   "name": "python3"
  },
  "language_info": {
   "codemirror_mode": {
    "name": "ipython",
    "version": 3
   },
   "file_extension": ".py",
   "mimetype": "text/x-python",
   "name": "python",
   "nbconvert_exporter": "python",
   "pygments_lexer": "ipython3",
   "version": "3.12.3"
  }
 },
 "nbformat": 4,
 "nbformat_minor": 5
}
